{
  "nbformat": 4,
  "nbformat_minor": 0,
  "metadata": {
    "colab": {
      "name": "SlantDetector.ipynb",
      "provenance": [],
      "toc_visible": true,
      "authorship_tag": "ABX9TyOluatp7Q+SemSJHC5C5+q2",
      "include_colab_link": true
    },
    "kernelspec": {
      "name": "python3",
      "display_name": "Python 3"
    }
  },
  "cells": [
    {
      "cell_type": "markdown",
      "metadata": {
        "id": "view-in-github",
        "colab_type": "text"
      },
      "source": [
        "<a href=\"https://colab.research.google.com/github/knk190001/SlantClassification/blob/master/SlantDetector.ipynb\" target=\"_parent\"><img src=\"https://colab.research.google.com/assets/colab-badge.svg\" alt=\"Open In Colab\"/></a>"
      ]
    },
    {
      "cell_type": "code",
      "metadata": {
        "id": "U4s_T-tJIZyW",
        "colab_type": "code",
        "colab": {
          "base_uri": "https://localhost:8080/",
          "height": 119
        },
        "outputId": "69c66901-7e30-46d7-a019-751cf0482932"
      },
      "source": [
        "!git clone https://github.com/knk190001/SlantClassification.git"
      ],
      "execution_count": 10,
      "outputs": [
        {
          "output_type": "stream",
          "text": [
            "Cloning into 'SlantClassification'...\n",
            "remote: Enumerating objects: 10, done.\u001b[K\n",
            "remote: Counting objects:  10% (1/10)\u001b[K\rremote: Counting objects:  20% (2/10)\u001b[K\rremote: Counting objects:  30% (3/10)\u001b[K\rremote: Counting objects:  40% (4/10)\u001b[K\rremote: Counting objects:  50% (5/10)\u001b[K\rremote: Counting objects:  60% (6/10)\u001b[K\rremote: Counting objects:  70% (7/10)\u001b[K\rremote: Counting objects:  80% (8/10)\u001b[K\rremote: Counting objects:  90% (9/10)\u001b[K\rremote: Counting objects: 100% (10/10)\u001b[K\rremote: Counting objects: 100% (10/10), done.\u001b[K\n",
            "remote: Compressing objects: 100% (9/9), done.\u001b[K\n",
            "remote: Total 10 (delta 1), reused 0 (delta 0), pack-reused 0\u001b[K\n",
            "Unpacking objects: 100% (10/10), done.\n"
          ],
          "name": "stdout"
        }
      ]
    },
    {
      "cell_type": "code",
      "metadata": {
        "id": "EtFwHuT91ZEp",
        "colab_type": "code",
        "colab": {}
      },
      "source": [
        "import pandas as pd\n",
        "import json"
      ],
      "execution_count": 0,
      "outputs": []
    },
    {
      "cell_type": "code",
      "metadata": {
        "id": "txLKd6x711r9",
        "colab_type": "code",
        "colab": {
          "base_uri": "https://localhost:8080/",
          "height": 204
        },
        "outputId": "7c8d1e19-bc5e-4b1f-da31-3e064cd4e3e0"
      },
      "source": [
        "data = pd.read_csv('./SlantClassification/tweets.csv')\n",
        "reps = pd.read_json('./SlantClassification/representatives.json')\n",
        "sens = pd.read_json('./SlantClassification/senators.json')\n",
        "\n",
        "def findParty(user):\n",
        "  temp = reps[reps['Twitter_username']==user]\n",
        "  if temp.empty :\n",
        "    temp = sens[sens['Twitter_username']==user]\n",
        "  \n",
        "  if temp.empty:\n",
        "    return\n",
        "  return temp.iloc[0,2]\n",
        "\n",
        "data['user'] = data['user'].apply(findParty)\n",
        "\n",
        "data.sample(5)"
      ],
      "execution_count": 44,
      "outputs": [
        {
          "output_type": "execute_result",
          "data": {
            "text/html": [
              "<div>\n",
              "<style scoped>\n",
              "    .dataframe tbody tr th:only-of-type {\n",
              "        vertical-align: middle;\n",
              "    }\n",
              "\n",
              "    .dataframe tbody tr th {\n",
              "        vertical-align: top;\n",
              "    }\n",
              "\n",
              "    .dataframe thead th {\n",
              "        text-align: right;\n",
              "    }\n",
              "</style>\n",
              "<table border=\"1\" class=\"dataframe\">\n",
              "  <thead>\n",
              "    <tr style=\"text-align: right;\">\n",
              "      <th></th>\n",
              "      <th>user</th>\n",
              "      <th>text</th>\n",
              "    </tr>\n",
              "  </thead>\n",
              "  <tbody>\n",
              "    <tr>\n",
              "      <th>123737</th>\n",
              "      <td>Democratic Party</td>\n",
              "      <td>He also heard from farmers about their growing...</td>\n",
              "    </tr>\n",
              "    <tr>\n",
              "      <th>101830</th>\n",
              "      <td>Democratic Party</td>\n",
              "      <td>The opioid crisis is devastating our families ...</td>\n",
              "    </tr>\n",
              "    <tr>\n",
              "      <th>36300</th>\n",
              "      <td>Democratic Party</td>\n",
              "      <td>Al to visit #Vietnam and #Laos this week to di...</td>\n",
              "    </tr>\n",
              "    <tr>\n",
              "      <th>29094</th>\n",
              "      <td>Democratic Party</td>\n",
              "      <td>House GOP student loan plan is worse than doin...</td>\n",
              "    </tr>\n",
              "    <tr>\n",
              "      <th>76767</th>\n",
              "      <td>Democratic Party</td>\n",
              "      <td>Appreciate @UKenyatta &amp;amp; #Kenya's leadershi...</td>\n",
              "    </tr>\n",
              "  </tbody>\n",
              "</table>\n",
              "</div>"
            ],
            "text/plain": [
              "                    user                                               text\n",
              "123737  Democratic Party  He also heard from farmers about their growing...\n",
              "101830  Democratic Party  The opioid crisis is devastating our families ...\n",
              "36300   Democratic Party  Al to visit #Vietnam and #Laos this week to di...\n",
              "29094   Democratic Party  House GOP student loan plan is worse than doin...\n",
              "76767   Democratic Party  Appreciate @UKenyatta &amp; #Kenya's leadershi..."
            ]
          },
          "metadata": {
            "tags": []
          },
          "execution_count": 44
        }
      ]
    },
    {
      "cell_type": "code",
      "metadata": {
        "id": "WUPqVo5QYs0q",
        "colab_type": "code",
        "colab": {
          "base_uri": "https://localhost:8080/",
          "height": 669
        },
        "outputId": "514a58ba-04b8-4096-ef99-b292b9669cb0"
      },
      "source": [
        "data.columns = ['party','text']\n",
        "\n",
        "data.sample(20)"
      ],
      "execution_count": 46,
      "outputs": [
        {
          "output_type": "execute_result",
          "data": {
            "text/html": [
              "<div>\n",
              "<style scoped>\n",
              "    .dataframe tbody tr th:only-of-type {\n",
              "        vertical-align: middle;\n",
              "    }\n",
              "\n",
              "    .dataframe tbody tr th {\n",
              "        vertical-align: top;\n",
              "    }\n",
              "\n",
              "    .dataframe thead th {\n",
              "        text-align: right;\n",
              "    }\n",
              "</style>\n",
              "<table border=\"1\" class=\"dataframe\">\n",
              "  <thead>\n",
              "    <tr style=\"text-align: right;\">\n",
              "      <th></th>\n",
              "      <th>party</th>\n",
              "      <th>text</th>\n",
              "    </tr>\n",
              "  </thead>\n",
              "  <tbody>\n",
              "    <tr>\n",
              "      <th>105315</th>\n",
              "      <td>Republican Party</td>\n",
              "      <td>Happy to reintroduce the LIFT Act w/ my friend...</td>\n",
              "    </tr>\n",
              "    <tr>\n",
              "      <th>11064</th>\n",
              "      <td>Democratic Party</td>\n",
              "      <td>Id like to thank all law enforcement officers ...</td>\n",
              "    </tr>\n",
              "    <tr>\n",
              "      <th>7848</th>\n",
              "      <td>Democratic Party</td>\n",
              "      <td>These are the facts: 1. Military leaders have ...</td>\n",
              "    </tr>\n",
              "    <tr>\n",
              "      <th>95067</th>\n",
              "      <td>Republican Party</td>\n",
              "      <td>Hoosiers may like Chicago-style pizza, but cer...</td>\n",
              "    </tr>\n",
              "    <tr>\n",
              "      <th>108435</th>\n",
              "      <td>Democratic Party</td>\n",
              "      <td>This evening I met with President Trump at @Wh...</td>\n",
              "    </tr>\n",
              "    <tr>\n",
              "      <th>51619</th>\n",
              "      <td>Democratic Party</td>\n",
              "      <td>Proud to intro #PellGrant Protection Act w/ @S...</td>\n",
              "    </tr>\n",
              "    <tr>\n",
              "      <th>57346</th>\n",
              "      <td>Republican Party</td>\n",
              "      <td>Speaking with @foxandfriends in just a few min...</td>\n",
              "    </tr>\n",
              "    <tr>\n",
              "      <th>77435</th>\n",
              "      <td>Democratic Party</td>\n",
              "      <td>Spoke to a great crowd at @sgSMU in #Singapore...</td>\n",
              "    </tr>\n",
              "    <tr>\n",
              "      <th>49924</th>\n",
              "      <td>Democratic Party</td>\n",
              "      <td>Amazing! Happy Halloween. https://t.co/h2G5j7goB6</td>\n",
              "    </tr>\n",
              "    <tr>\n",
              "      <th>8622</th>\n",
              "      <td>Democratic Party</td>\n",
              "      <td>Even GOP leaders are finally beginning to ackn...</td>\n",
              "    </tr>\n",
              "    <tr>\n",
              "      <th>62717</th>\n",
              "      <td>Democratic Party</td>\n",
              "      <td>Dad, I'm sitting here today in the US Capitol....</td>\n",
              "    </tr>\n",
              "    <tr>\n",
              "      <th>81613</th>\n",
              "      <td>Republican Party</td>\n",
              "      <td>My statement on @SenTedCruz's resolution honor...</td>\n",
              "    </tr>\n",
              "    <tr>\n",
              "      <th>66295</th>\n",
              "      <td>Democratic Party</td>\n",
              "      <td>Latest news on Dorian is that things have may ...</td>\n",
              "    </tr>\n",
              "    <tr>\n",
              "      <th>49115</th>\n",
              "      <td>Republican Party</td>\n",
              "      <td>Yet another health insurer announced it will e...</td>\n",
              "    </tr>\n",
              "    <tr>\n",
              "      <th>98617</th>\n",
              "      <td>Democratic Party</td>\n",
              "      <td>RT @Kentwainscott: The changing of the guard f...</td>\n",
              "    </tr>\n",
              "    <tr>\n",
              "      <th>123110</th>\n",
              "      <td>Republican Party</td>\n",
              "      <td>We cant lose touch with folks in the middle of...</td>\n",
              "    </tr>\n",
              "    <tr>\n",
              "      <th>48314</th>\n",
              "      <td>Republican Party</td>\n",
              "      <td>The security situation in #Afghanistan demands...</td>\n",
              "    </tr>\n",
              "    <tr>\n",
              "      <th>125589</th>\n",
              "      <td>Democratic Party</td>\n",
              "      <td>Joe welcomed the news @Carrier will keep hundr...</td>\n",
              "    </tr>\n",
              "    <tr>\n",
              "      <th>76698</th>\n",
              "      <td>Democratic Party</td>\n",
              "      <td>Working w/ partners in Brussels to fulfill ass...</td>\n",
              "    </tr>\n",
              "    <tr>\n",
              "      <th>9414</th>\n",
              "      <td>Democratic Party</td>\n",
              "      <td>U.S. doesn't need a President undermining law ...</td>\n",
              "    </tr>\n",
              "  </tbody>\n",
              "</table>\n",
              "</div>"
            ],
            "text/plain": [
              "                   party                                               text\n",
              "105315  Republican Party  Happy to reintroduce the LIFT Act w/ my friend...\n",
              "11064   Democratic Party  Id like to thank all law enforcement officers ...\n",
              "7848    Democratic Party  These are the facts: 1. Military leaders have ...\n",
              "95067   Republican Party  Hoosiers may like Chicago-style pizza, but cer...\n",
              "108435  Democratic Party  This evening I met with President Trump at @Wh...\n",
              "51619   Democratic Party  Proud to intro #PellGrant Protection Act w/ @S...\n",
              "57346   Republican Party  Speaking with @foxandfriends in just a few min...\n",
              "77435   Democratic Party  Spoke to a great crowd at @sgSMU in #Singapore...\n",
              "49924   Democratic Party  Amazing! Happy Halloween. https://t.co/h2G5j7goB6\n",
              "8622    Democratic Party  Even GOP leaders are finally beginning to ackn...\n",
              "62717   Democratic Party  Dad, I'm sitting here today in the US Capitol....\n",
              "81613   Republican Party  My statement on @SenTedCruz's resolution honor...\n",
              "66295   Democratic Party  Latest news on Dorian is that things have may ...\n",
              "49115   Republican Party  Yet another health insurer announced it will e...\n",
              "98617   Democratic Party  RT @Kentwainscott: The changing of the guard f...\n",
              "123110  Republican Party  We cant lose touch with folks in the middle of...\n",
              "48314   Republican Party  The security situation in #Afghanistan demands...\n",
              "125589  Democratic Party  Joe welcomed the news @Carrier will keep hundr...\n",
              "76698   Democratic Party  Working w/ partners in Brussels to fulfill ass...\n",
              "9414    Democratic Party  U.S. doesn't need a President undermining law ..."
            ]
          },
          "metadata": {
            "tags": []
          },
          "execution_count": 46
        }
      ]
    },
    {
      "cell_type": "code",
      "metadata": {
        "id": "f2tfsDQ732Fq",
        "colab_type": "code",
        "colab": {
          "base_uri": "https://localhost:8080/",
          "height": 34
        },
        "outputId": "995a1a88-887a-40bf-ec48-3de0da13d9f0"
      },
      "source": [
        "rm SlantClassification/"
      ],
      "execution_count": 4,
      "outputs": [
        {
          "output_type": "stream",
          "text": [
            "rm: cannot remove 'SlantClassification/': Is a directory\n"
          ],
          "name": "stdout"
        }
      ]
    },
    {
      "cell_type": "code",
      "metadata": {
        "id": "VaFRwzjuKbbc",
        "colab_type": "code",
        "colab": {}
      },
      "source": [
        "!rm SlantClassification/ -R"
      ],
      "execution_count": 0,
      "outputs": []
    },
    {
      "cell_type": "code",
      "metadata": {
        "id": "PzbCvSQuKnU9",
        "colab_type": "code",
        "colab": {
          "base_uri": "https://localhost:8080/",
          "height": 34
        },
        "outputId": "3de5b4e7-1749-495c-860b-fbc429b45c8f"
      },
      "source": [
        "!ls"
      ],
      "execution_count": 43,
      "outputs": [
        {
          "output_type": "stream",
          "text": [
            "sample_data  SlantClassification\n"
          ],
          "name": "stdout"
        }
      ]
    },
    {
      "cell_type": "code",
      "metadata": {
        "id": "LrH7A4TAXogO",
        "colab_type": "code",
        "colab": {}
      },
      "source": [
        ""
      ],
      "execution_count": 0,
      "outputs": []
    }
  ]
}