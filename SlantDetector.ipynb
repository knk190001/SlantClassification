{
  "nbformat": 4,
  "nbformat_minor": 0,
  "metadata": {
    "colab": {
      "name": "SlantDetector.ipynb",
      "provenance": [],
      "toc_visible": true,
      "authorship_tag": "ABX9TyPE3idA+AyRlr5oZq4G9kJo",
      "include_colab_link": true
    },
    "kernelspec": {
      "name": "python3",
      "display_name": "Python 3"
    }
  },
  "cells": [
    {
      "cell_type": "markdown",
      "metadata": {
        "id": "view-in-github",
        "colab_type": "text"
      },
      "source": [
        "<a href=\"https://colab.research.google.com/github/knk190001/SlantClassification/blob/master/SlantDetector.ipynb\" target=\"_parent\"><img src=\"https://colab.research.google.com/assets/colab-badge.svg\" alt=\"Open In Colab\"/></a>"
      ]
    },
    {
      "cell_type": "code",
      "metadata": {
        "id": "U4s_T-tJIZyW",
        "colab_type": "code",
        "colab": {
          "base_uri": "https://localhost:8080/",
          "height": 119
        },
        "outputId": "69c66901-7e30-46d7-a019-751cf0482932"
      },
      "source": [
        "!git clone https://github.com/knk190001/SlantClassification.git"
      ],
      "execution_count": 10,
      "outputs": [
        {
          "output_type": "stream",
          "text": [
            "Cloning into 'SlantClassification'...\n",
            "remote: Enumerating objects: 10, done.\u001b[K\n",
            "remote: Counting objects:  10% (1/10)\u001b[K\rremote: Counting objects:  20% (2/10)\u001b[K\rremote: Counting objects:  30% (3/10)\u001b[K\rremote: Counting objects:  40% (4/10)\u001b[K\rremote: Counting objects:  50% (5/10)\u001b[K\rremote: Counting objects:  60% (6/10)\u001b[K\rremote: Counting objects:  70% (7/10)\u001b[K\rremote: Counting objects:  80% (8/10)\u001b[K\rremote: Counting objects:  90% (9/10)\u001b[K\rremote: Counting objects: 100% (10/10)\u001b[K\rremote: Counting objects: 100% (10/10), done.\u001b[K\n",
            "remote: Compressing objects: 100% (9/9), done.\u001b[K\n",
            "remote: Total 10 (delta 1), reused 0 (delta 0), pack-reused 0\u001b[K\n",
            "Unpacking objects: 100% (10/10), done.\n"
          ],
          "name": "stdout"
        }
      ]
    },
    {
      "cell_type": "code",
      "metadata": {
        "id": "EtFwHuT91ZEp",
        "colab_type": "code",
        "colab": {}
      },
      "source": [
        "import pandas as pd\n",
        "import json"
      ],
      "execution_count": 0,
      "outputs": []
    },
    {
      "cell_type": "code",
      "metadata": {
        "id": "txLKd6x711r9",
        "colab_type": "code",
        "colab": {
          "base_uri": "https://localhost:8080/",
          "height": 204
        },
        "outputId": "7c8d1e19-bc5e-4b1f-da31-3e064cd4e3e0"
      },
      "source": [
        "data = pd.read_csv('./SlantClassification/tweets.csv')\n",
        "reps = pd.read_json('./SlantClassification/representatives.json')\n",
        "sens = pd.read_json('./SlantClassification/senators.json')\n",
        "\n",
        "def findParty(user):\n",
        "  temp = reps[reps['Twitter_username']==user]\n",
        "  if temp.empty :\n",
        "    temp = sens[sens['Twitter_username']==user]\n",
        "  \n",
        "  if temp.empty:\n",
        "    return\n",
        "  return temp.iloc[0,2]\n",
        "\n",
        "data['user'] = data['user'].apply(findParty)\n",
        "\n",
        "data.sample(5)"
      ],
      "execution_count": 44,
      "outputs": [
        {
          "output_type": "execute_result",
          "data": {
            "text/html": [
              "<div>\n",
              "<style scoped>\n",
              "    .dataframe tbody tr th:only-of-type {\n",
              "        vertical-align: middle;\n",
              "    }\n",
              "\n",
              "    .dataframe tbody tr th {\n",
              "        vertical-align: top;\n",
              "    }\n",
              "\n",
              "    .dataframe thead th {\n",
              "        text-align: right;\n",
              "    }\n",
              "</style>\n",
              "<table border=\"1\" class=\"dataframe\">\n",
              "  <thead>\n",
              "    <tr style=\"text-align: right;\">\n",
              "      <th></th>\n",
              "      <th>user</th>\n",
              "      <th>text</th>\n",
              "    </tr>\n",
              "  </thead>\n",
              "  <tbody>\n",
              "    <tr>\n",
              "      <th>123737</th>\n",
              "      <td>Democratic Party</td>\n",
              "      <td>He also heard from farmers about their growing...</td>\n",
              "    </tr>\n",
              "    <tr>\n",
              "      <th>101830</th>\n",
              "      <td>Democratic Party</td>\n",
              "      <td>The opioid crisis is devastating our families ...</td>\n",
              "    </tr>\n",
              "    <tr>\n",
              "      <th>36300</th>\n",
              "      <td>Democratic Party</td>\n",
              "      <td>Al to visit #Vietnam and #Laos this week to di...</td>\n",
              "    </tr>\n",
              "    <tr>\n",
              "      <th>29094</th>\n",
              "      <td>Democratic Party</td>\n",
              "      <td>House GOP student loan plan is worse than doin...</td>\n",
              "    </tr>\n",
              "    <tr>\n",
              "      <th>76767</th>\n",
              "      <td>Democratic Party</td>\n",
              "      <td>Appreciate @UKenyatta &amp;amp; #Kenya's leadershi...</td>\n",
              "    </tr>\n",
              "  </tbody>\n",
              "</table>\n",
              "</div>"
            ],
            "text/plain": [
              "                    user                                               text\n",
              "123737  Democratic Party  He also heard from farmers about their growing...\n",
              "101830  Democratic Party  The opioid crisis is devastating our families ...\n",
              "36300   Democratic Party  Al to visit #Vietnam and #Laos this week to di...\n",
              "29094   Democratic Party  House GOP student loan plan is worse than doin...\n",
              "76767   Democratic Party  Appreciate @UKenyatta &amp; #Kenya's leadershi..."
            ]
          },
          "metadata": {
            "tags": []
          },
          "execution_count": 44
        }
      ]
    },
    {
      "cell_type": "code",
      "metadata": {
        "id": "WUPqVo5QYs0q",
        "colab_type": "code",
        "colab": {
          "base_uri": "https://localhost:8080/",
          "height": 669
        },
        "outputId": "f092a792-b8c1-495f-f6ef-ed4bebe0cce4"
      },
      "source": [
        "data.sample(20)"
      ],
      "execution_count": 45,
      "outputs": [
        {
          "output_type": "execute_result",
          "data": {
            "text/html": [
              "<div>\n",
              "<style scoped>\n",
              "    .dataframe tbody tr th:only-of-type {\n",
              "        vertical-align: middle;\n",
              "    }\n",
              "\n",
              "    .dataframe tbody tr th {\n",
              "        vertical-align: top;\n",
              "    }\n",
              "\n",
              "    .dataframe thead th {\n",
              "        text-align: right;\n",
              "    }\n",
              "</style>\n",
              "<table border=\"1\" class=\"dataframe\">\n",
              "  <thead>\n",
              "    <tr style=\"text-align: right;\">\n",
              "      <th></th>\n",
              "      <th>user</th>\n",
              "      <th>text</th>\n",
              "    </tr>\n",
              "  </thead>\n",
              "  <tbody>\n",
              "    <tr>\n",
              "      <th>92276</th>\n",
              "      <td>Republican Party</td>\n",
              "      <td>Powerful reporting on Yemen humanitarian crisi...</td>\n",
              "    </tr>\n",
              "    <tr>\n",
              "      <th>96082</th>\n",
              "      <td>Republican Party</td>\n",
              "      <td>I urge President Obama to speak with President...</td>\n",
              "    </tr>\n",
              "    <tr>\n",
              "      <th>77569</th>\n",
              "      <td>Democratic Party</td>\n",
              "      <td>The U.S. could ask for no better friend or all...</td>\n",
              "    </tr>\n",
              "    <tr>\n",
              "      <th>120268</th>\n",
              "      <td>Republican Party</td>\n",
              "      <td>.@Clairecmc, under investigation by FEC after ...</td>\n",
              "    </tr>\n",
              "    <tr>\n",
              "      <th>68227</th>\n",
              "      <td>Democratic Party</td>\n",
              "      <td>RT @commercedems: .@SenatorCantwell has introd...</td>\n",
              "    </tr>\n",
              "    <tr>\n",
              "      <th>43729</th>\n",
              "      <td>Republican Party</td>\n",
              "      <td>We're going to make college debt-free for ever...</td>\n",
              "    </tr>\n",
              "    <tr>\n",
              "      <th>82134</th>\n",
              "      <td>Republican Party</td>\n",
              "      <td>If you aren't in the Juneau area or are unable...</td>\n",
              "    </tr>\n",
              "    <tr>\n",
              "      <th>66029</th>\n",
              "      <td>Democratic Party</td>\n",
              "      <td>President Carter continues building homes for ...</td>\n",
              "    </tr>\n",
              "    <tr>\n",
              "      <th>74834</th>\n",
              "      <td>Republican Party</td>\n",
              "      <td>(2/3) Choosing when to claim Social Security c...</td>\n",
              "    </tr>\n",
              "    <tr>\n",
              "      <th>51003</th>\n",
              "      <td>Democratic Party</td>\n",
              "      <td>It's unacceptable that HI women earn 86 cents ...</td>\n",
              "    </tr>\n",
              "    <tr>\n",
              "      <th>117724</th>\n",
              "      <td>Republican Party</td>\n",
              "      <td>A look back at the week: tax reform, veterans,...</td>\n",
              "    </tr>\n",
              "    <tr>\n",
              "      <th>63349</th>\n",
              "      <td>Democratic Party</td>\n",
              "      <td>Its always a good idea to make some hotdish. T...</td>\n",
              "    </tr>\n",
              "    <tr>\n",
              "      <th>20625</th>\n",
              "      <td>Democratic Party</td>\n",
              "      <td>Instead of focusing on the fact that college c...</td>\n",
              "    </tr>\n",
              "    <tr>\n",
              "      <th>47332</th>\n",
              "      <td>Republican Party</td>\n",
              "      <td>I'll be speaking on the Senate floor shortly o...</td>\n",
              "    </tr>\n",
              "    <tr>\n",
              "      <th>38994</th>\n",
              "      <td>Democratic Party</td>\n",
              "      <td>We cannot turn a blind eye to the atrocities P...</td>\n",
              "    </tr>\n",
              "    <tr>\n",
              "      <th>17234</th>\n",
              "      <td>Republican Party</td>\n",
              "      <td>Good discussion with #Nevadans in #Washoe Coun...</td>\n",
              "    </tr>\n",
              "    <tr>\n",
              "      <th>114768</th>\n",
              "      <td>Democratic Party</td>\n",
              "      <td>Senate Floor Address Thursday Of Senator Patri...</td>\n",
              "    </tr>\n",
              "    <tr>\n",
              "      <th>38487</th>\n",
              "      <td>Democratic Party</td>\n",
              "      <td>Climate change poses an existential threat to ...</td>\n",
              "    </tr>\n",
              "    <tr>\n",
              "      <th>125864</th>\n",
              "      <td>Democratic Party</td>\n",
              "      <td>For his latest #DonnellyDay, Joe worked alongs...</td>\n",
              "    </tr>\n",
              "    <tr>\n",
              "      <th>106279</th>\n",
              "      <td>Republican Party</td>\n",
              "      <td>The #Russians are a determined adversary. We m...</td>\n",
              "    </tr>\n",
              "  </tbody>\n",
              "</table>\n",
              "</div>"
            ],
            "text/plain": [
              "                    user                                               text\n",
              "92276   Republican Party  Powerful reporting on Yemen humanitarian crisi...\n",
              "96082   Republican Party  I urge President Obama to speak with President...\n",
              "77569   Democratic Party  The U.S. could ask for no better friend or all...\n",
              "120268  Republican Party  .@Clairecmc, under investigation by FEC after ...\n",
              "68227   Democratic Party  RT @commercedems: .@SenatorCantwell has introd...\n",
              "43729   Republican Party  We're going to make college debt-free for ever...\n",
              "82134   Republican Party  If you aren't in the Juneau area or are unable...\n",
              "66029   Democratic Party  President Carter continues building homes for ...\n",
              "74834   Republican Party  (2/3) Choosing when to claim Social Security c...\n",
              "51003   Democratic Party  It's unacceptable that HI women earn 86 cents ...\n",
              "117724  Republican Party  A look back at the week: tax reform, veterans,...\n",
              "63349   Democratic Party  Its always a good idea to make some hotdish. T...\n",
              "20625   Democratic Party  Instead of focusing on the fact that college c...\n",
              "47332   Republican Party  I'll be speaking on the Senate floor shortly o...\n",
              "38994   Democratic Party  We cannot turn a blind eye to the atrocities P...\n",
              "17234   Republican Party  Good discussion with #Nevadans in #Washoe Coun...\n",
              "114768  Democratic Party  Senate Floor Address Thursday Of Senator Patri...\n",
              "38487   Democratic Party  Climate change poses an existential threat to ...\n",
              "125864  Democratic Party  For his latest #DonnellyDay, Joe worked alongs...\n",
              "106279  Republican Party  The #Russians are a determined adversary. We m..."
            ]
          },
          "metadata": {
            "tags": []
          },
          "execution_count": 45
        }
      ]
    },
    {
      "cell_type": "code",
      "metadata": {
        "id": "f2tfsDQ732Fq",
        "colab_type": "code",
        "colab": {
          "base_uri": "https://localhost:8080/",
          "height": 34
        },
        "outputId": "995a1a88-887a-40bf-ec48-3de0da13d9f0"
      },
      "source": [
        "rm SlantClassification/"
      ],
      "execution_count": 4,
      "outputs": [
        {
          "output_type": "stream",
          "text": [
            "rm: cannot remove 'SlantClassification/': Is a directory\n"
          ],
          "name": "stdout"
        }
      ]
    },
    {
      "cell_type": "code",
      "metadata": {
        "id": "VaFRwzjuKbbc",
        "colab_type": "code",
        "colab": {}
      },
      "source": [
        "!rm SlantClassification/ -R"
      ],
      "execution_count": 0,
      "outputs": []
    },
    {
      "cell_type": "code",
      "metadata": {
        "id": "PzbCvSQuKnU9",
        "colab_type": "code",
        "colab": {
          "base_uri": "https://localhost:8080/",
          "height": 34
        },
        "outputId": "3de5b4e7-1749-495c-860b-fbc429b45c8f"
      },
      "source": [
        "!ls"
      ],
      "execution_count": 43,
      "outputs": [
        {
          "output_type": "stream",
          "text": [
            "sample_data  SlantClassification\n"
          ],
          "name": "stdout"
        }
      ]
    },
    {
      "cell_type": "code",
      "metadata": {
        "id": "LrH7A4TAXogO",
        "colab_type": "code",
        "colab": {}
      },
      "source": [
        ""
      ],
      "execution_count": 0,
      "outputs": []
    }
  ]
}