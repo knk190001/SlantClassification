{
  "nbformat": 4,
  "nbformat_minor": 0,
  "metadata": {
    "colab": {
      "name": "SlantDetector.ipynb",
      "provenance": [],
      "authorship_tag": "ABX9TyPgQ4ANHpXQR8KcA1sz8Wu4",
      "include_colab_link": true
    },
    "kernelspec": {
      "name": "python3",
      "display_name": "Python 3"
    },
    "accelerator": "GPU",
    "widgets": {
      "application/vnd.jupyter.widget-state+json": {
        "63a7f48e912a49c0815ea93e8fcb40c7": {
          "model_module": "@jupyter-widgets/controls",
          "model_name": "HBoxModel",
          "state": {
            "_view_name": "HBoxView",
            "_dom_classes": [],
            "_model_name": "HBoxModel",
            "_view_module": "@jupyter-widgets/controls",
            "_model_module_version": "1.5.0",
            "_view_count": null,
            "_view_module_version": "1.5.0",
            "box_style": "",
            "layout": "IPY_MODEL_1ff99a80420a4e89aec3cbc063eba852",
            "_model_module": "@jupyter-widgets/controls",
            "children": [
              "IPY_MODEL_9f52cee80bd144bbbca01ecb7bec6aa3",
              "IPY_MODEL_9bf388d7197c4ff59f23ffbc09a51f1c"
            ]
          }
        },
        "1ff99a80420a4e89aec3cbc063eba852": {
          "model_module": "@jupyter-widgets/base",
          "model_name": "LayoutModel",
          "state": {
            "_view_name": "LayoutView",
            "grid_template_rows": null,
            "right": null,
            "justify_content": null,
            "_view_module": "@jupyter-widgets/base",
            "overflow": null,
            "_model_module_version": "1.2.0",
            "_view_count": null,
            "flex_flow": null,
            "width": null,
            "min_width": null,
            "border": null,
            "align_items": null,
            "bottom": null,
            "_model_module": "@jupyter-widgets/base",
            "top": null,
            "grid_column": null,
            "overflow_y": null,
            "overflow_x": null,
            "grid_auto_flow": null,
            "grid_area": null,
            "grid_template_columns": null,
            "flex": null,
            "_model_name": "LayoutModel",
            "justify_items": null,
            "grid_row": null,
            "max_height": null,
            "align_content": null,
            "visibility": null,
            "align_self": null,
            "height": null,
            "min_height": null,
            "padding": null,
            "grid_auto_rows": null,
            "grid_gap": null,
            "max_width": null,
            "order": null,
            "_view_module_version": "1.2.0",
            "grid_template_areas": null,
            "object_position": null,
            "object_fit": null,
            "grid_auto_columns": null,
            "margin": null,
            "display": null,
            "left": null
          }
        },
        "9f52cee80bd144bbbca01ecb7bec6aa3": {
          "model_module": "@jupyter-widgets/controls",
          "model_name": "IntProgressModel",
          "state": {
            "_view_name": "ProgressView",
            "style": "IPY_MODEL_f6db81d1fa6742dfafc45beacec1a543",
            "_dom_classes": [],
            "description": "Downloading",
            "_model_name": "IntProgressModel",
            "bar_style": "success",
            "max": 231508,
            "_view_module": "@jupyter-widgets/controls",
            "_model_module_version": "1.5.0",
            "value": 231508,
            "_view_count": null,
            "_view_module_version": "1.5.0",
            "orientation": "horizontal",
            "min": 0,
            "description_tooltip": null,
            "_model_module": "@jupyter-widgets/controls",
            "layout": "IPY_MODEL_4a949a02ae93471fa4a21a892c1580e0"
          }
        },
        "9bf388d7197c4ff59f23ffbc09a51f1c": {
          "model_module": "@jupyter-widgets/controls",
          "model_name": "HTMLModel",
          "state": {
            "_view_name": "HTMLView",
            "style": "IPY_MODEL_b00014791a9d417cbfb3a99b9c0b79e0",
            "_dom_classes": [],
            "description": "",
            "_model_name": "HTMLModel",
            "placeholder": "​",
            "_view_module": "@jupyter-widgets/controls",
            "_model_module_version": "1.5.0",
            "value": "100% 232k/232k [00:00&lt;00:00, 2.65MB/s]",
            "_view_count": null,
            "_view_module_version": "1.5.0",
            "description_tooltip": null,
            "_model_module": "@jupyter-widgets/controls",
            "layout": "IPY_MODEL_13c08e118032492b9bd21d3f9f6ea8d6"
          }
        },
        "f6db81d1fa6742dfafc45beacec1a543": {
          "model_module": "@jupyter-widgets/controls",
          "model_name": "ProgressStyleModel",
          "state": {
            "_view_name": "StyleView",
            "_model_name": "ProgressStyleModel",
            "description_width": "initial",
            "_view_module": "@jupyter-widgets/base",
            "_model_module_version": "1.5.0",
            "_view_count": null,
            "_view_module_version": "1.2.0",
            "bar_color": null,
            "_model_module": "@jupyter-widgets/controls"
          }
        },
        "4a949a02ae93471fa4a21a892c1580e0": {
          "model_module": "@jupyter-widgets/base",
          "model_name": "LayoutModel",
          "state": {
            "_view_name": "LayoutView",
            "grid_template_rows": null,
            "right": null,
            "justify_content": null,
            "_view_module": "@jupyter-widgets/base",
            "overflow": null,
            "_model_module_version": "1.2.0",
            "_view_count": null,
            "flex_flow": null,
            "width": null,
            "min_width": null,
            "border": null,
            "align_items": null,
            "bottom": null,
            "_model_module": "@jupyter-widgets/base",
            "top": null,
            "grid_column": null,
            "overflow_y": null,
            "overflow_x": null,
            "grid_auto_flow": null,
            "grid_area": null,
            "grid_template_columns": null,
            "flex": null,
            "_model_name": "LayoutModel",
            "justify_items": null,
            "grid_row": null,
            "max_height": null,
            "align_content": null,
            "visibility": null,
            "align_self": null,
            "height": null,
            "min_height": null,
            "padding": null,
            "grid_auto_rows": null,
            "grid_gap": null,
            "max_width": null,
            "order": null,
            "_view_module_version": "1.2.0",
            "grid_template_areas": null,
            "object_position": null,
            "object_fit": null,
            "grid_auto_columns": null,
            "margin": null,
            "display": null,
            "left": null
          }
        },
        "b00014791a9d417cbfb3a99b9c0b79e0": {
          "model_module": "@jupyter-widgets/controls",
          "model_name": "DescriptionStyleModel",
          "state": {
            "_view_name": "StyleView",
            "_model_name": "DescriptionStyleModel",
            "description_width": "",
            "_view_module": "@jupyter-widgets/base",
            "_model_module_version": "1.5.0",
            "_view_count": null,
            "_view_module_version": "1.2.0",
            "_model_module": "@jupyter-widgets/controls"
          }
        },
        "13c08e118032492b9bd21d3f9f6ea8d6": {
          "model_module": "@jupyter-widgets/base",
          "model_name": "LayoutModel",
          "state": {
            "_view_name": "LayoutView",
            "grid_template_rows": null,
            "right": null,
            "justify_content": null,
            "_view_module": "@jupyter-widgets/base",
            "overflow": null,
            "_model_module_version": "1.2.0",
            "_view_count": null,
            "flex_flow": null,
            "width": null,
            "min_width": null,
            "border": null,
            "align_items": null,
            "bottom": null,
            "_model_module": "@jupyter-widgets/base",
            "top": null,
            "grid_column": null,
            "overflow_y": null,
            "overflow_x": null,
            "grid_auto_flow": null,
            "grid_area": null,
            "grid_template_columns": null,
            "flex": null,
            "_model_name": "LayoutModel",
            "justify_items": null,
            "grid_row": null,
            "max_height": null,
            "align_content": null,
            "visibility": null,
            "align_self": null,
            "height": null,
            "min_height": null,
            "padding": null,
            "grid_auto_rows": null,
            "grid_gap": null,
            "max_width": null,
            "order": null,
            "_view_module_version": "1.2.0",
            "grid_template_areas": null,
            "object_position": null,
            "object_fit": null,
            "grid_auto_columns": null,
            "margin": null,
            "display": null,
            "left": null
          }
        },
        "7bf032a73d524f00964696a33ab00a3a": {
          "model_module": "@jupyter-widgets/controls",
          "model_name": "HBoxModel",
          "state": {
            "_view_name": "HBoxView",
            "_dom_classes": [],
            "_model_name": "HBoxModel",
            "_view_module": "@jupyter-widgets/controls",
            "_model_module_version": "1.5.0",
            "_view_count": null,
            "_view_module_version": "1.5.0",
            "box_style": "",
            "layout": "IPY_MODEL_e0cdefa4dd194f799e71d494cc3a3430",
            "_model_module": "@jupyter-widgets/controls",
            "children": [
              "IPY_MODEL_4f84a4b8649344298aa59b7d98c147a7",
              "IPY_MODEL_1206942fe15941b6b9ee78f9c7b6b15d"
            ]
          }
        },
        "e0cdefa4dd194f799e71d494cc3a3430": {
          "model_module": "@jupyter-widgets/base",
          "model_name": "LayoutModel",
          "state": {
            "_view_name": "LayoutView",
            "grid_template_rows": null,
            "right": null,
            "justify_content": null,
            "_view_module": "@jupyter-widgets/base",
            "overflow": null,
            "_model_module_version": "1.2.0",
            "_view_count": null,
            "flex_flow": null,
            "width": null,
            "min_width": null,
            "border": null,
            "align_items": null,
            "bottom": null,
            "_model_module": "@jupyter-widgets/base",
            "top": null,
            "grid_column": null,
            "overflow_y": null,
            "overflow_x": null,
            "grid_auto_flow": null,
            "grid_area": null,
            "grid_template_columns": null,
            "flex": null,
            "_model_name": "LayoutModel",
            "justify_items": null,
            "grid_row": null,
            "max_height": null,
            "align_content": null,
            "visibility": null,
            "align_self": null,
            "height": null,
            "min_height": null,
            "padding": null,
            "grid_auto_rows": null,
            "grid_gap": null,
            "max_width": null,
            "order": null,
            "_view_module_version": "1.2.0",
            "grid_template_areas": null,
            "object_position": null,
            "object_fit": null,
            "grid_auto_columns": null,
            "margin": null,
            "display": null,
            "left": null
          }
        },
        "4f84a4b8649344298aa59b7d98c147a7": {
          "model_module": "@jupyter-widgets/controls",
          "model_name": "IntProgressModel",
          "state": {
            "_view_name": "ProgressView",
            "style": "IPY_MODEL_c7745f88788143158287749ace723cfc",
            "_dom_classes": [],
            "description": "Downloading",
            "_model_name": "IntProgressModel",
            "bar_style": "success",
            "max": 361,
            "_view_module": "@jupyter-widgets/controls",
            "_model_module_version": "1.5.0",
            "value": 361,
            "_view_count": null,
            "_view_module_version": "1.5.0",
            "orientation": "horizontal",
            "min": 0,
            "description_tooltip": null,
            "_model_module": "@jupyter-widgets/controls",
            "layout": "IPY_MODEL_99763726489c478c95c0abe70c16b2ef"
          }
        },
        "1206942fe15941b6b9ee78f9c7b6b15d": {
          "model_module": "@jupyter-widgets/controls",
          "model_name": "HTMLModel",
          "state": {
            "_view_name": "HTMLView",
            "style": "IPY_MODEL_f0eab028dd524f1d81931b171e5963a5",
            "_dom_classes": [],
            "description": "",
            "_model_name": "HTMLModel",
            "placeholder": "​",
            "_view_module": "@jupyter-widgets/controls",
            "_model_module_version": "1.5.0",
            "value": "100% 361/361 [00:00&lt;00:00, 16.6kB/s]",
            "_view_count": null,
            "_view_module_version": "1.5.0",
            "description_tooltip": null,
            "_model_module": "@jupyter-widgets/controls",
            "layout": "IPY_MODEL_7fb16c9af2b945dd82bff256fd685472"
          }
        },
        "c7745f88788143158287749ace723cfc": {
          "model_module": "@jupyter-widgets/controls",
          "model_name": "ProgressStyleModel",
          "state": {
            "_view_name": "StyleView",
            "_model_name": "ProgressStyleModel",
            "description_width": "initial",
            "_view_module": "@jupyter-widgets/base",
            "_model_module_version": "1.5.0",
            "_view_count": null,
            "_view_module_version": "1.2.0",
            "bar_color": null,
            "_model_module": "@jupyter-widgets/controls"
          }
        },
        "99763726489c478c95c0abe70c16b2ef": {
          "model_module": "@jupyter-widgets/base",
          "model_name": "LayoutModel",
          "state": {
            "_view_name": "LayoutView",
            "grid_template_rows": null,
            "right": null,
            "justify_content": null,
            "_view_module": "@jupyter-widgets/base",
            "overflow": null,
            "_model_module_version": "1.2.0",
            "_view_count": null,
            "flex_flow": null,
            "width": null,
            "min_width": null,
            "border": null,
            "align_items": null,
            "bottom": null,
            "_model_module": "@jupyter-widgets/base",
            "top": null,
            "grid_column": null,
            "overflow_y": null,
            "overflow_x": null,
            "grid_auto_flow": null,
            "grid_area": null,
            "grid_template_columns": null,
            "flex": null,
            "_model_name": "LayoutModel",
            "justify_items": null,
            "grid_row": null,
            "max_height": null,
            "align_content": null,
            "visibility": null,
            "align_self": null,
            "height": null,
            "min_height": null,
            "padding": null,
            "grid_auto_rows": null,
            "grid_gap": null,
            "max_width": null,
            "order": null,
            "_view_module_version": "1.2.0",
            "grid_template_areas": null,
            "object_position": null,
            "object_fit": null,
            "grid_auto_columns": null,
            "margin": null,
            "display": null,
            "left": null
          }
        },
        "f0eab028dd524f1d81931b171e5963a5": {
          "model_module": "@jupyter-widgets/controls",
          "model_name": "DescriptionStyleModel",
          "state": {
            "_view_name": "StyleView",
            "_model_name": "DescriptionStyleModel",
            "description_width": "",
            "_view_module": "@jupyter-widgets/base",
            "_model_module_version": "1.5.0",
            "_view_count": null,
            "_view_module_version": "1.2.0",
            "_model_module": "@jupyter-widgets/controls"
          }
        },
        "7fb16c9af2b945dd82bff256fd685472": {
          "model_module": "@jupyter-widgets/base",
          "model_name": "LayoutModel",
          "state": {
            "_view_name": "LayoutView",
            "grid_template_rows": null,
            "right": null,
            "justify_content": null,
            "_view_module": "@jupyter-widgets/base",
            "overflow": null,
            "_model_module_version": "1.2.0",
            "_view_count": null,
            "flex_flow": null,
            "width": null,
            "min_width": null,
            "border": null,
            "align_items": null,
            "bottom": null,
            "_model_module": "@jupyter-widgets/base",
            "top": null,
            "grid_column": null,
            "overflow_y": null,
            "overflow_x": null,
            "grid_auto_flow": null,
            "grid_area": null,
            "grid_template_columns": null,
            "flex": null,
            "_model_name": "LayoutModel",
            "justify_items": null,
            "grid_row": null,
            "max_height": null,
            "align_content": null,
            "visibility": null,
            "align_self": null,
            "height": null,
            "min_height": null,
            "padding": null,
            "grid_auto_rows": null,
            "grid_gap": null,
            "max_width": null,
            "order": null,
            "_view_module_version": "1.2.0",
            "grid_template_areas": null,
            "object_position": null,
            "object_fit": null,
            "grid_auto_columns": null,
            "margin": null,
            "display": null,
            "left": null
          }
        },
        "a2e7db0071774f2592bb8b41bcc3c647": {
          "model_module": "@jupyter-widgets/controls",
          "model_name": "HBoxModel",
          "state": {
            "_view_name": "HBoxView",
            "_dom_classes": [],
            "_model_name": "HBoxModel",
            "_view_module": "@jupyter-widgets/controls",
            "_model_module_version": "1.5.0",
            "_view_count": null,
            "_view_module_version": "1.5.0",
            "box_style": "",
            "layout": "IPY_MODEL_39e0f9dc7575425bb967d7f729b255dd",
            "_model_module": "@jupyter-widgets/controls",
            "children": [
              "IPY_MODEL_fbdc02a8ffd34ba59b4b9801841c2228",
              "IPY_MODEL_1d15af2b8bbf44eeaf6f7c63113f07cb"
            ]
          }
        },
        "39e0f9dc7575425bb967d7f729b255dd": {
          "model_module": "@jupyter-widgets/base",
          "model_name": "LayoutModel",
          "state": {
            "_view_name": "LayoutView",
            "grid_template_rows": null,
            "right": null,
            "justify_content": null,
            "_view_module": "@jupyter-widgets/base",
            "overflow": null,
            "_model_module_version": "1.2.0",
            "_view_count": null,
            "flex_flow": null,
            "width": null,
            "min_width": null,
            "border": null,
            "align_items": null,
            "bottom": null,
            "_model_module": "@jupyter-widgets/base",
            "top": null,
            "grid_column": null,
            "overflow_y": null,
            "overflow_x": null,
            "grid_auto_flow": null,
            "grid_area": null,
            "grid_template_columns": null,
            "flex": null,
            "_model_name": "LayoutModel",
            "justify_items": null,
            "grid_row": null,
            "max_height": null,
            "align_content": null,
            "visibility": null,
            "align_self": null,
            "height": null,
            "min_height": null,
            "padding": null,
            "grid_auto_rows": null,
            "grid_gap": null,
            "max_width": null,
            "order": null,
            "_view_module_version": "1.2.0",
            "grid_template_areas": null,
            "object_position": null,
            "object_fit": null,
            "grid_auto_columns": null,
            "margin": null,
            "display": null,
            "left": null
          }
        },
        "fbdc02a8ffd34ba59b4b9801841c2228": {
          "model_module": "@jupyter-widgets/controls",
          "model_name": "IntProgressModel",
          "state": {
            "_view_name": "ProgressView",
            "style": "IPY_MODEL_3867c93d2e904286b7f2e60ddfaed8f5",
            "_dom_classes": [],
            "description": "Downloading",
            "_model_name": "IntProgressModel",
            "bar_style": "success",
            "max": 440473133,
            "_view_module": "@jupyter-widgets/controls",
            "_model_module_version": "1.5.0",
            "value": 440473133,
            "_view_count": null,
            "_view_module_version": "1.5.0",
            "orientation": "horizontal",
            "min": 0,
            "description_tooltip": null,
            "_model_module": "@jupyter-widgets/controls",
            "layout": "IPY_MODEL_8fc09d76db3c46cda835552a28fd46ee"
          }
        },
        "1d15af2b8bbf44eeaf6f7c63113f07cb": {
          "model_module": "@jupyter-widgets/controls",
          "model_name": "HTMLModel",
          "state": {
            "_view_name": "HTMLView",
            "style": "IPY_MODEL_5a0ec0e2167044a1a9d14d5eb6ccaf41",
            "_dom_classes": [],
            "description": "",
            "_model_name": "HTMLModel",
            "placeholder": "​",
            "_view_module": "@jupyter-widgets/controls",
            "_model_module_version": "1.5.0",
            "value": "100% 440M/440M [00:06&lt;00:00, 71.7MB/s]",
            "_view_count": null,
            "_view_module_version": "1.5.0",
            "description_tooltip": null,
            "_model_module": "@jupyter-widgets/controls",
            "layout": "IPY_MODEL_201c4431e53c43568c8e6d0e6a943401"
          }
        },
        "3867c93d2e904286b7f2e60ddfaed8f5": {
          "model_module": "@jupyter-widgets/controls",
          "model_name": "ProgressStyleModel",
          "state": {
            "_view_name": "StyleView",
            "_model_name": "ProgressStyleModel",
            "description_width": "initial",
            "_view_module": "@jupyter-widgets/base",
            "_model_module_version": "1.5.0",
            "_view_count": null,
            "_view_module_version": "1.2.0",
            "bar_color": null,
            "_model_module": "@jupyter-widgets/controls"
          }
        },
        "8fc09d76db3c46cda835552a28fd46ee": {
          "model_module": "@jupyter-widgets/base",
          "model_name": "LayoutModel",
          "state": {
            "_view_name": "LayoutView",
            "grid_template_rows": null,
            "right": null,
            "justify_content": null,
            "_view_module": "@jupyter-widgets/base",
            "overflow": null,
            "_model_module_version": "1.2.0",
            "_view_count": null,
            "flex_flow": null,
            "width": null,
            "min_width": null,
            "border": null,
            "align_items": null,
            "bottom": null,
            "_model_module": "@jupyter-widgets/base",
            "top": null,
            "grid_column": null,
            "overflow_y": null,
            "overflow_x": null,
            "grid_auto_flow": null,
            "grid_area": null,
            "grid_template_columns": null,
            "flex": null,
            "_model_name": "LayoutModel",
            "justify_items": null,
            "grid_row": null,
            "max_height": null,
            "align_content": null,
            "visibility": null,
            "align_self": null,
            "height": null,
            "min_height": null,
            "padding": null,
            "grid_auto_rows": null,
            "grid_gap": null,
            "max_width": null,
            "order": null,
            "_view_module_version": "1.2.0",
            "grid_template_areas": null,
            "object_position": null,
            "object_fit": null,
            "grid_auto_columns": null,
            "margin": null,
            "display": null,
            "left": null
          }
        },
        "5a0ec0e2167044a1a9d14d5eb6ccaf41": {
          "model_module": "@jupyter-widgets/controls",
          "model_name": "DescriptionStyleModel",
          "state": {
            "_view_name": "StyleView",
            "_model_name": "DescriptionStyleModel",
            "description_width": "",
            "_view_module": "@jupyter-widgets/base",
            "_model_module_version": "1.5.0",
            "_view_count": null,
            "_view_module_version": "1.2.0",
            "_model_module": "@jupyter-widgets/controls"
          }
        },
        "201c4431e53c43568c8e6d0e6a943401": {
          "model_module": "@jupyter-widgets/base",
          "model_name": "LayoutModel",
          "state": {
            "_view_name": "LayoutView",
            "grid_template_rows": null,
            "right": null,
            "justify_content": null,
            "_view_module": "@jupyter-widgets/base",
            "overflow": null,
            "_model_module_version": "1.2.0",
            "_view_count": null,
            "flex_flow": null,
            "width": null,
            "min_width": null,
            "border": null,
            "align_items": null,
            "bottom": null,
            "_model_module": "@jupyter-widgets/base",
            "top": null,
            "grid_column": null,
            "overflow_y": null,
            "overflow_x": null,
            "grid_auto_flow": null,
            "grid_area": null,
            "grid_template_columns": null,
            "flex": null,
            "_model_name": "LayoutModel",
            "justify_items": null,
            "grid_row": null,
            "max_height": null,
            "align_content": null,
            "visibility": null,
            "align_self": null,
            "height": null,
            "min_height": null,
            "padding": null,
            "grid_auto_rows": null,
            "grid_gap": null,
            "max_width": null,
            "order": null,
            "_view_module_version": "1.2.0",
            "grid_template_areas": null,
            "object_position": null,
            "object_fit": null,
            "grid_auto_columns": null,
            "margin": null,
            "display": null,
            "left": null
          }
        }
      }
    }
  },
  "cells": [
    {
      "cell_type": "markdown",
      "metadata": {
        "id": "view-in-github",
        "colab_type": "text"
      },
      "source": [
        "<a href=\"https://colab.research.google.com/github/knk190001/SlantClassification/blob/master/SlantDetector.ipynb\" target=\"_parent\"><img src=\"https://colab.research.google.com/assets/colab-badge.svg\" alt=\"Open In Colab\"/></a>"
      ]
    },
    {
      "cell_type": "code",
      "metadata": {
        "id": "U4s_T-tJIZyW",
        "colab_type": "code",
        "outputId": "3dbe4b31-d582-4ad4-e020-6229d11ab8d1",
        "colab": {
          "base_uri": "https://localhost:8080/",
          "height": 119
        }
      },
      "source": [
        "!git clone https://github.com/knk190001/SlantClassification.git"
      ],
      "execution_count": 2,
      "outputs": [
        {
          "output_type": "stream",
          "text": [
            "Cloning into 'SlantClassification'...\n",
            "remote: Enumerating objects: 22, done.\u001b[K\n",
            "remote: Counting objects: 100% (22/22), done.\u001b[K\n",
            "remote: Compressing objects: 100% (21/21), done.\u001b[K\n",
            "remote: Total 22 (delta 8), reused 0 (delta 0), pack-reused 0\u001b[K\n",
            "Unpacking objects: 100% (22/22), done.\n"
          ],
          "name": "stdout"
        }
      ]
    },
    {
      "cell_type": "code",
      "metadata": {
        "id": "EtFwHuT91ZEp",
        "colab_type": "code",
        "colab": {}
      },
      "source": [
        "import pandas as pd\n",
        "import json"
      ],
      "execution_count": 0,
      "outputs": []
    },
    {
      "cell_type": "code",
      "metadata": {
        "id": "txLKd6x711r9",
        "colab_type": "code",
        "outputId": "f393ed41-5389-4ef0-9b46-aa3bbb133816",
        "colab": {
          "base_uri": "https://localhost:8080/",
          "height": 204
        }
      },
      "source": [
        "data = pd.read_csv('./SlantClassification/tweets.csv')\n",
        "reps = pd.read_json('./SlantClassification/representatives.json')\n",
        "sens = pd.read_json('./SlantClassification/senators.json')\n",
        "\n",
        "def findParty(user):\n",
        "  temp = reps[reps['Twitter_username']==user]\n",
        "  if temp.empty :\n",
        "    temp = sens[sens['Twitter_username']==user]\n",
        "  \n",
        "  if temp.empty:\n",
        "    return\n",
        "  if temp.iloc[0,2] == 'Democratic Party' :\n",
        "    return int(1)\n",
        "  elif temp.iloc[0,2] == 'Republican Party' :\n",
        "    return int(0)\n",
        "\n",
        "data['user'] = data['user'].apply(findParty)\n",
        "\n",
        "data.sample(5)"
      ],
      "execution_count": 7,
      "outputs": [
        {
          "output_type": "execute_result",
          "data": {
            "text/html": [
              "<div>\n",
              "<style scoped>\n",
              "    .dataframe tbody tr th:only-of-type {\n",
              "        vertical-align: middle;\n",
              "    }\n",
              "\n",
              "    .dataframe tbody tr th {\n",
              "        vertical-align: top;\n",
              "    }\n",
              "\n",
              "    .dataframe thead th {\n",
              "        text-align: right;\n",
              "    }\n",
              "</style>\n",
              "<table border=\"1\" class=\"dataframe\">\n",
              "  <thead>\n",
              "    <tr style=\"text-align: right;\">\n",
              "      <th></th>\n",
              "      <th>user</th>\n",
              "      <th>text</th>\n",
              "    </tr>\n",
              "  </thead>\n",
              "  <tbody>\n",
              "    <tr>\n",
              "      <th>83821</th>\n",
              "      <td>0.0</td>\n",
              "      <td>While I support the bipartisan, good-faith eff...</td>\n",
              "    </tr>\n",
              "    <tr>\n",
              "      <th>68828</th>\n",
              "      <td>1.0</td>\n",
              "      <td>President Trump's budget proposal lacks invest...</td>\n",
              "    </tr>\n",
              "    <tr>\n",
              "      <th>93587</th>\n",
              "      <td>0.0</td>\n",
              "      <td>Washington Lobbying Firm Pays Evan Bayh $2 Mil...</td>\n",
              "    </tr>\n",
              "    <tr>\n",
              "      <th>130798</th>\n",
              "      <td>1.0</td>\n",
              "      <td>Trumps thirst for self-enrichment knows no bou...</td>\n",
              "    </tr>\n",
              "    <tr>\n",
              "      <th>523</th>\n",
              "      <td>1.0</td>\n",
              "      <td>What Evelyn Yang is doing is incredibly brave....</td>\n",
              "    </tr>\n",
              "  </tbody>\n",
              "</table>\n",
              "</div>"
            ],
            "text/plain": [
              "        user                                               text\n",
              "83821    0.0  While I support the bipartisan, good-faith eff...\n",
              "68828    1.0  President Trump's budget proposal lacks invest...\n",
              "93587    0.0  Washington Lobbying Firm Pays Evan Bayh $2 Mil...\n",
              "130798   1.0  Trumps thirst for self-enrichment knows no bou...\n",
              "523      1.0  What Evelyn Yang is doing is incredibly brave...."
            ]
          },
          "metadata": {
            "tags": []
          },
          "execution_count": 7
        }
      ]
    },
    {
      "cell_type": "code",
      "metadata": {
        "id": "UvBtKeLGjrcz",
        "colab_type": "code",
        "colab": {}
      },
      "source": [
        "import re\n",
        "\n",
        "def remove(pattern,text):\n",
        "  if isinstance(text,str):\n",
        "    return re.sub(pattern,'',text)\n",
        "  return float('nan')\n",
        "\n",
        "def removeLinks(text):\n",
        "  return remove(r'https?:\\/\\/.*[\\r\\n]*',text)\n",
        "def removeHandles(text):\n",
        "  return remove(r'@\\w{1,15}',text)\n",
        "def removeHashtags(text):\n",
        "  return remove(r'#\\w*[A-Za-z_]+\\w*',text)\n",
        "\n",
        "data['text'] = data['text'].apply(removeLinks).apply(removeHandles).apply(removeHashtags).dropna()"
      ],
      "execution_count": 0,
      "outputs": []
    },
    {
      "cell_type": "code",
      "metadata": {
        "id": "WUPqVo5QYs0q",
        "colab_type": "code",
        "outputId": "1b0be5a3-fa37-402b-d9be-5bea1161c66c",
        "colab": {
          "base_uri": "https://localhost:8080/",
          "height": 669
        }
      },
      "source": [
        "data.columns = ['party','text']\n",
        "data = data.dropna()\n",
        "data.head(20)"
      ],
      "execution_count": 20,
      "outputs": [
        {
          "output_type": "execute_result",
          "data": {
            "text/html": [
              "<div>\n",
              "<style scoped>\n",
              "    .dataframe tbody tr th:only-of-type {\n",
              "        vertical-align: middle;\n",
              "    }\n",
              "\n",
              "    .dataframe tbody tr th {\n",
              "        vertical-align: top;\n",
              "    }\n",
              "\n",
              "    .dataframe thead th {\n",
              "        text-align: right;\n",
              "    }\n",
              "</style>\n",
              "<table border=\"1\" class=\"dataframe\">\n",
              "  <thead>\n",
              "    <tr style=\"text-align: right;\">\n",
              "      <th></th>\n",
              "      <th>party</th>\n",
              "      <th>text</th>\n",
              "    </tr>\n",
              "  </thead>\n",
              "  <tbody>\n",
              "    <tr>\n",
              "      <th>1</th>\n",
              "      <td>0.0</td>\n",
              "      <td>Nancy Pelosi and Adam Schiffs impeachment was ...</td>\n",
              "    </tr>\n",
              "    <tr>\n",
              "      <th>2</th>\n",
              "      <td>0.0</td>\n",
              "      <td>One of the reasons for the Democrats' impeachm...</td>\n",
              "    </tr>\n",
              "    <tr>\n",
              "      <th>3</th>\n",
              "      <td>0.0</td>\n",
              "      <td>It was great to see so many friends tonight at...</td>\n",
              "    </tr>\n",
              "    <tr>\n",
              "      <th>4</th>\n",
              "      <td>0.0</td>\n",
              "      <td>READ MY FULL STATEMENT HERE:</td>\n",
              "    </tr>\n",
              "    <tr>\n",
              "      <th>5</th>\n",
              "      <td>0.0</td>\n",
              "      <td>. is a foot soldier for Chuck Schumer and the ...</td>\n",
              "    </tr>\n",
              "    <tr>\n",
              "      <th>6</th>\n",
              "      <td>0.0</td>\n",
              "      <td>. is deeply complicit in this grave wrong. In ...</td>\n",
              "    </tr>\n",
              "    <tr>\n",
              "      <th>7</th>\n",
              "      <td>0.0</td>\n",
              "      <td>They fear our strong President  who is boldly ...</td>\n",
              "    </tr>\n",
              "    <tr>\n",
              "      <th>8</th>\n",
              "      <td>0.0</td>\n",
              "      <td>House Democrats have committed a very grave wr...</td>\n",
              "    </tr>\n",
              "    <tr>\n",
              "      <th>9</th>\n",
              "      <td>0.0</td>\n",
              "      <td>As I have stated from the beginning on multipl...</td>\n",
              "    </tr>\n",
              "    <tr>\n",
              "      <th>10</th>\n",
              "      <td>0.0</td>\n",
              "      <td>The Democrats partisan impeachment charade has...</td>\n",
              "    </tr>\n",
              "    <tr>\n",
              "      <th>11</th>\n",
              "      <td>0.0</td>\n",
              "      <td>I commend President  for his strong and commit...</td>\n",
              "    </tr>\n",
              "    <tr>\n",
              "      <th>12</th>\n",
              "      <td>0.0</td>\n",
              "      <td>RT : EXCLUSIVE  : Doug Jones Has Revealed Hims...</td>\n",
              "    </tr>\n",
              "    <tr>\n",
              "      <th>13</th>\n",
              "      <td>0.0</td>\n",
              "      <td>. is a foot soldier for  and the radical left,...</td>\n",
              "    </tr>\n",
              "    <tr>\n",
              "      <th>14</th>\n",
              "      <td>0.0</td>\n",
              "      <td>. announced this morning that he plans to vote...</td>\n",
              "    </tr>\n",
              "    <tr>\n",
              "      <th>15</th>\n",
              "      <td>0.0</td>\n",
              "      <td>So happy for my good friend Rush Limbaugh  Rus...</td>\n",
              "    </tr>\n",
              "    <tr>\n",
              "      <th>16</th>\n",
              "      <td>0.0</td>\n",
              "      <td>Amen. Thank you, President Trump, for protecti...</td>\n",
              "    </tr>\n",
              "    <tr>\n",
              "      <th>17</th>\n",
              "      <td>0.0</td>\n",
              "      <td>The left has swung and missed on impeachment. ...</td>\n",
              "    </tr>\n",
              "    <tr>\n",
              "      <th>18</th>\n",
              "      <td>0.0</td>\n",
              "      <td>Truly an incredible State of the Union address...</td>\n",
              "    </tr>\n",
              "    <tr>\n",
              "      <th>19</th>\n",
              "      <td>0.0</td>\n",
              "      <td>I'll be on Fox News tonight with  to preview P...</td>\n",
              "    </tr>\n",
              "    <tr>\n",
              "      <th>20</th>\n",
              "      <td>0.0</td>\n",
              "      <td>No one has done more to advance the cause of f...</td>\n",
              "    </tr>\n",
              "  </tbody>\n",
              "</table>\n",
              "</div>"
            ],
            "text/plain": [
              "    party                                               text\n",
              "1     0.0  Nancy Pelosi and Adam Schiffs impeachment was ...\n",
              "2     0.0  One of the reasons for the Democrats' impeachm...\n",
              "3     0.0  It was great to see so many friends tonight at...\n",
              "4     0.0                      READ MY FULL STATEMENT HERE: \n",
              "5     0.0  . is a foot soldier for Chuck Schumer and the ...\n",
              "6     0.0  . is deeply complicit in this grave wrong. In ...\n",
              "7     0.0  They fear our strong President  who is boldly ...\n",
              "8     0.0  House Democrats have committed a very grave wr...\n",
              "9     0.0  As I have stated from the beginning on multipl...\n",
              "10    0.0  The Democrats partisan impeachment charade has...\n",
              "11    0.0  I commend President  for his strong and commit...\n",
              "12    0.0  RT : EXCLUSIVE  : Doug Jones Has Revealed Hims...\n",
              "13    0.0  . is a foot soldier for  and the radical left,...\n",
              "14    0.0  . announced this morning that he plans to vote...\n",
              "15    0.0  So happy for my good friend Rush Limbaugh  Rus...\n",
              "16    0.0  Amen. Thank you, President Trump, for protecti...\n",
              "17    0.0  The left has swung and missed on impeachment. ...\n",
              "18    0.0  Truly an incredible State of the Union address...\n",
              "19    0.0  I'll be on Fox News tonight with  to preview P...\n",
              "20    0.0  No one has done more to advance the cause of f..."
            ]
          },
          "metadata": {
            "tags": []
          },
          "execution_count": 20
        }
      ]
    },
    {
      "cell_type": "code",
      "metadata": {
        "id": "-hkK3qMtMcVS",
        "colab_type": "code",
        "colab": {
          "base_uri": "https://localhost:8080/",
          "height": 646
        },
        "outputId": "7b7b435c-f1e1-4180-8e41-d815da765754"
      },
      "source": [
        "!pip install transformers"
      ],
      "execution_count": 21,
      "outputs": [
        {
          "output_type": "stream",
          "text": [
            "Collecting transformers\n",
            "\u001b[?25l  Downloading https://files.pythonhosted.org/packages/ee/fc/bd726a15ab2c66dc09306689d04da07a3770dad724f0883f0a4bfb745087/transformers-2.4.1-py3-none-any.whl (475kB)\n",
            "\u001b[K     |████████████████████████████████| 481kB 3.4MB/s \n",
            "\u001b[?25hCollecting tokenizers==0.0.11\n",
            "\u001b[?25l  Downloading https://files.pythonhosted.org/packages/5e/36/7af38d572c935f8e0462ec7b4f7a46d73a2b3b1a938f50a5e8132d5b2dc5/tokenizers-0.0.11-cp36-cp36m-manylinux1_x86_64.whl (3.1MB)\n",
            "\u001b[K     |████████████████████████████████| 3.1MB 16.4MB/s \n",
            "\u001b[?25hRequirement already satisfied: filelock in /usr/local/lib/python3.6/dist-packages (from transformers) (3.0.12)\n",
            "Requirement already satisfied: requests in /usr/local/lib/python3.6/dist-packages (from transformers) (2.21.0)\n",
            "Requirement already satisfied: tqdm>=4.27 in /usr/local/lib/python3.6/dist-packages (from transformers) (4.28.1)\n",
            "Requirement already satisfied: boto3 in /usr/local/lib/python3.6/dist-packages (from transformers) (1.11.10)\n",
            "Requirement already satisfied: numpy in /usr/local/lib/python3.6/dist-packages (from transformers) (1.17.5)\n",
            "Collecting sacremoses\n",
            "\u001b[?25l  Downloading https://files.pythonhosted.org/packages/a6/b4/7a41d630547a4afd58143597d5a49e07bfd4c42914d8335b2a5657efc14b/sacremoses-0.0.38.tar.gz (860kB)\n",
            "\u001b[K     |████████████████████████████████| 870kB 41.6MB/s \n",
            "\u001b[?25hCollecting sentencepiece\n",
            "\u001b[?25l  Downloading https://files.pythonhosted.org/packages/74/f4/2d5214cbf13d06e7cb2c20d84115ca25b53ea76fa1f0ade0e3c9749de214/sentencepiece-0.1.85-cp36-cp36m-manylinux1_x86_64.whl (1.0MB)\n",
            "\u001b[K     |████████████████████████████████| 1.0MB 51.9MB/s \n",
            "\u001b[?25hRequirement already satisfied: regex!=2019.12.17 in /usr/local/lib/python3.6/dist-packages (from transformers) (2019.12.20)\n",
            "Requirement already satisfied: certifi>=2017.4.17 in /usr/local/lib/python3.6/dist-packages (from requests->transformers) (2019.11.28)\n",
            "Requirement already satisfied: idna<2.9,>=2.5 in /usr/local/lib/python3.6/dist-packages (from requests->transformers) (2.8)\n",
            "Requirement already satisfied: urllib3<1.25,>=1.21.1 in /usr/local/lib/python3.6/dist-packages (from requests->transformers) (1.24.3)\n",
            "Requirement already satisfied: chardet<3.1.0,>=3.0.2 in /usr/local/lib/python3.6/dist-packages (from requests->transformers) (3.0.4)\n",
            "Requirement already satisfied: s3transfer<0.4.0,>=0.3.0 in /usr/local/lib/python3.6/dist-packages (from boto3->transformers) (0.3.2)\n",
            "Requirement already satisfied: jmespath<1.0.0,>=0.7.1 in /usr/local/lib/python3.6/dist-packages (from boto3->transformers) (0.9.4)\n",
            "Requirement already satisfied: botocore<1.15.0,>=1.14.10 in /usr/local/lib/python3.6/dist-packages (from boto3->transformers) (1.14.10)\n",
            "Requirement already satisfied: six in /usr/local/lib/python3.6/dist-packages (from sacremoses->transformers) (1.12.0)\n",
            "Requirement already satisfied: click in /usr/local/lib/python3.6/dist-packages (from sacremoses->transformers) (7.0)\n",
            "Requirement already satisfied: joblib in /usr/local/lib/python3.6/dist-packages (from sacremoses->transformers) (0.14.1)\n",
            "Requirement already satisfied: docutils<0.16,>=0.10 in /usr/local/lib/python3.6/dist-packages (from botocore<1.15.0,>=1.14.10->boto3->transformers) (0.15.2)\n",
            "Requirement already satisfied: python-dateutil<3.0.0,>=2.1 in /usr/local/lib/python3.6/dist-packages (from botocore<1.15.0,>=1.14.10->boto3->transformers) (2.6.1)\n",
            "Building wheels for collected packages: sacremoses\n",
            "  Building wheel for sacremoses (setup.py) ... \u001b[?25l\u001b[?25hdone\n",
            "  Created wheel for sacremoses: filename=sacremoses-0.0.38-cp36-none-any.whl size=884628 sha256=616e9feb27eacdbf353a25d498579ecca41ea9748a8c215dc78027bd928e2b02\n",
            "  Stored in directory: /root/.cache/pip/wheels/6d/ec/1a/21b8912e35e02741306f35f66c785f3afe94de754a0eaf1422\n",
            "Successfully built sacremoses\n",
            "Installing collected packages: tokenizers, sacremoses, sentencepiece, transformers\n",
            "Successfully installed sacremoses-0.0.38 sentencepiece-0.1.85 tokenizers-0.0.11 transformers-2.4.1\n"
          ],
          "name": "stdout"
        }
      ]
    },
    {
      "cell_type": "code",
      "metadata": {
        "id": "XNe_O6CTMhyI",
        "colab_type": "code",
        "colab": {}
      },
      "source": [
        "import os\n",
        "import torch"
      ],
      "execution_count": 0,
      "outputs": []
    },
    {
      "cell_type": "code",
      "metadata": {
        "id": "TERE0QpoQ2c2",
        "colab_type": "code",
        "colab": {}
      },
      "source": [
        "data = data.sample(frac=1).reset_index(drop=True).dropna()\n",
        "phaseOne = data.head(int(len(data.index) * .75)).reset_index(drop=True)\n",
        "phaseTwo = data.tail(int(len(data.index)*.25)).reset_index(drop=True)"
      ],
      "execution_count": 0,
      "outputs": []
    },
    {
      "cell_type": "code",
      "metadata": {
        "id": "VDXZw0glTrn3",
        "colab_type": "code",
        "colab": {
          "base_uri": "https://localhost:8080/",
          "height": 419
        },
        "outputId": "99ee3886-8ae5-4190-dbf4-90237ee2fc5d"
      },
      "source": [
        "phaseOne"
      ],
      "execution_count": 25,
      "outputs": [
        {
          "output_type": "execute_result",
          "data": {
            "text/html": [
              "<div>\n",
              "<style scoped>\n",
              "    .dataframe tbody tr th:only-of-type {\n",
              "        vertical-align: middle;\n",
              "    }\n",
              "\n",
              "    .dataframe tbody tr th {\n",
              "        vertical-align: top;\n",
              "    }\n",
              "\n",
              "    .dataframe thead th {\n",
              "        text-align: right;\n",
              "    }\n",
              "</style>\n",
              "<table border=\"1\" class=\"dataframe\">\n",
              "  <thead>\n",
              "    <tr style=\"text-align: right;\">\n",
              "      <th></th>\n",
              "      <th>party</th>\n",
              "      <th>text</th>\n",
              "    </tr>\n",
              "  </thead>\n",
              "  <tbody>\n",
              "    <tr>\n",
              "      <th>0</th>\n",
              "      <td>1.0</td>\n",
              "      <td>We are not only going to legalize marijuana; w...</td>\n",
              "    </tr>\n",
              "    <tr>\n",
              "      <th>1</th>\n",
              "      <td>0.0</td>\n",
              "      <td>. : \"John McCain fights cancer and finds ... j...</td>\n",
              "    </tr>\n",
              "    <tr>\n",
              "      <th>2</th>\n",
              "      <td>1.0</td>\n",
              "      <td>Judge Gorsuch has ruled against disabled stude...</td>\n",
              "    </tr>\n",
              "    <tr>\n",
              "      <th>3</th>\n",
              "      <td>0.0</td>\n",
              "      <td>Yesterday Verne and I celebrated 32 years of m...</td>\n",
              "    </tr>\n",
              "    <tr>\n",
              "      <th>4</th>\n",
              "      <td>1.0</td>\n",
              "      <td>Unbelievably moving to join  family for long o...</td>\n",
              "    </tr>\n",
              "    <tr>\n",
              "      <th>...</th>\n",
              "      <td>...</td>\n",
              "      <td>...</td>\n",
              "    </tr>\n",
              "    <tr>\n",
              "      <th>101324</th>\n",
              "      <td>1.0</td>\n",
              "      <td></td>\n",
              "    </tr>\n",
              "    <tr>\n",
              "      <th>101325</th>\n",
              "      <td>0.0</td>\n",
              "      <td>RT this if you think kids and families deserve...</td>\n",
              "    </tr>\n",
              "    <tr>\n",
              "      <th>101326</th>\n",
              "      <td>0.0</td>\n",
              "      <td>Today at 10amET, I'll join  on  in-studio from...</td>\n",
              "    </tr>\n",
              "    <tr>\n",
              "      <th>101327</th>\n",
              "      <td>1.0</td>\n",
              "      <td>Congratulations to  &amp;amp; Melanie!</td>\n",
              "    </tr>\n",
              "    <tr>\n",
              "      <th>101328</th>\n",
              "      <td>0.0</td>\n",
              "      <td>This week during , let's take a moment to reco...</td>\n",
              "    </tr>\n",
              "  </tbody>\n",
              "</table>\n",
              "<p>101329 rows × 2 columns</p>\n",
              "</div>"
            ],
            "text/plain": [
              "        party                                               text\n",
              "0         1.0  We are not only going to legalize marijuana; w...\n",
              "1         0.0  . : \"John McCain fights cancer and finds ... j...\n",
              "2         1.0  Judge Gorsuch has ruled against disabled stude...\n",
              "3         0.0  Yesterday Verne and I celebrated 32 years of m...\n",
              "4         1.0  Unbelievably moving to join  family for long o...\n",
              "...       ...                                                ...\n",
              "101324    1.0                                                   \n",
              "101325    0.0  RT this if you think kids and families deserve...\n",
              "101326    0.0  Today at 10amET, I'll join  on  in-studio from...\n",
              "101327    1.0               Congratulations to  &amp; Melanie!  \n",
              "101328    0.0  This week during , let's take a moment to reco...\n",
              "\n",
              "[101329 rows x 2 columns]"
            ]
          },
          "metadata": {
            "tags": []
          },
          "execution_count": 25
        }
      ]
    },
    {
      "cell_type": "code",
      "metadata": {
        "id": "flUKhSifXn5p",
        "colab_type": "code",
        "colab": {
          "base_uri": "https://localhost:8080/",
          "height": 419
        },
        "outputId": "1edd21c4-63f7-4eba-e312-54d2680ed0bb"
      },
      "source": [
        "phaseTwo"
      ],
      "execution_count": 26,
      "outputs": [
        {
          "output_type": "execute_result",
          "data": {
            "text/html": [
              "<div>\n",
              "<style scoped>\n",
              "    .dataframe tbody tr th:only-of-type {\n",
              "        vertical-align: middle;\n",
              "    }\n",
              "\n",
              "    .dataframe tbody tr th {\n",
              "        vertical-align: top;\n",
              "    }\n",
              "\n",
              "    .dataframe thead th {\n",
              "        text-align: right;\n",
              "    }\n",
              "</style>\n",
              "<table border=\"1\" class=\"dataframe\">\n",
              "  <thead>\n",
              "    <tr style=\"text-align: right;\">\n",
              "      <th></th>\n",
              "      <th>party</th>\n",
              "      <th>text</th>\n",
              "    </tr>\n",
              "  </thead>\n",
              "  <tbody>\n",
              "    <tr>\n",
              "      <th>0</th>\n",
              "      <td>1.0</td>\n",
              "      <td>Joe met with members of  and  to discuss the i...</td>\n",
              "    </tr>\n",
              "    <tr>\n",
              "      <th>1</th>\n",
              "      <td>1.0</td>\n",
              "      <td>If youre new to health care coverage or lookin...</td>\n",
              "    </tr>\n",
              "    <tr>\n",
              "      <th>2</th>\n",
              "      <td>1.0</td>\n",
              "      <td>Alabamas extreme and unconstitutional ban on a...</td>\n",
              "    </tr>\n",
              "    <tr>\n",
              "      <th>3</th>\n",
              "      <td>0.0</td>\n",
              "      <td>Today's 30th anniversary of the Tiananmen Squa...</td>\n",
              "    </tr>\n",
              "    <tr>\n",
              "      <th>4</th>\n",
              "      <td>0.0</td>\n",
              "      <td>Great work  K-9 Sig &amp;amp; Officer Hensel and  ...</td>\n",
              "    </tr>\n",
              "    <tr>\n",
              "      <th>...</th>\n",
              "      <td>...</td>\n",
              "      <td>...</td>\n",
              "    </tr>\n",
              "    <tr>\n",
              "      <th>33771</th>\n",
              "      <td>1.0</td>\n",
              "      <td>Untruthful testimony, under oath and on the re...</td>\n",
              "    </tr>\n",
              "    <tr>\n",
              "      <th>33772</th>\n",
              "      <td>1.0</td>\n",
              "      <td>HAPPENING NOW: Judge Kavanaugh must honestly a...</td>\n",
              "    </tr>\n",
              "    <tr>\n",
              "      <th>33773</th>\n",
              "      <td>1.0</td>\n",
              "      <td>Happy Birthday CT! On the 232nd anniversary of...</td>\n",
              "    </tr>\n",
              "    <tr>\n",
              "      <th>33774</th>\n",
              "      <td>0.0</td>\n",
              "      <td>I partnered w/  to reintroduce the Reach Act t...</td>\n",
              "    </tr>\n",
              "    <tr>\n",
              "      <th>33775</th>\n",
              "      <td>0.0</td>\n",
              "      <td>Senator Collins just cast her 4,900th consecut...</td>\n",
              "    </tr>\n",
              "  </tbody>\n",
              "</table>\n",
              "<p>33776 rows × 2 columns</p>\n",
              "</div>"
            ],
            "text/plain": [
              "       party                                               text\n",
              "0        1.0  Joe met with members of  and  to discuss the i...\n",
              "1        1.0  If youre new to health care coverage or lookin...\n",
              "2        1.0  Alabamas extreme and unconstitutional ban on a...\n",
              "3        0.0  Today's 30th anniversary of the Tiananmen Squa...\n",
              "4        0.0  Great work  K-9 Sig &amp; Officer Hensel and  ...\n",
              "...      ...                                                ...\n",
              "33771    1.0  Untruthful testimony, under oath and on the re...\n",
              "33772    1.0  HAPPENING NOW: Judge Kavanaugh must honestly a...\n",
              "33773    1.0  Happy Birthday CT! On the 232nd anniversary of...\n",
              "33774    0.0  I partnered w/  to reintroduce the Reach Act t...\n",
              "33775    0.0  Senator Collins just cast her 4,900th consecut...\n",
              "\n",
              "[33776 rows x 2 columns]"
            ]
          },
          "metadata": {
            "tags": []
          },
          "execution_count": 26
        }
      ]
    },
    {
      "cell_type": "code",
      "metadata": {
        "id": "xpObFuC9Z7qN",
        "colab_type": "code",
        "colab": {
          "base_uri": "https://localhost:8080/",
          "height": 34
        },
        "outputId": "9fbcb966-03b1-46bf-c269-478cfc4aaf2c"
      },
      "source": [
        "if torch.cuda.is_available():\n",
        "  print(\"cuda\")\n",
        "  device = torch.device(\"cuda\")\n",
        "else:\n",
        "  print('cpu')\n",
        "  device = torch.device(\"cpu\")"
      ],
      "execution_count": 27,
      "outputs": [
        {
          "output_type": "stream",
          "text": [
            "cuda\n"
          ],
          "name": "stdout"
        }
      ]
    },
    {
      "cell_type": "code",
      "metadata": {
        "id": "SoUR3aS5am3O",
        "colab_type": "code",
        "colab": {}
      },
      "source": [
        "tweets = phaseOne.text.values\n",
        "labels = phaseOne.party.values"
      ],
      "execution_count": 0,
      "outputs": []
    },
    {
      "cell_type": "code",
      "metadata": {
        "id": "Rk2JXBeQivdX",
        "colab_type": "code",
        "colab": {
          "base_uri": "https://localhost:8080/",
          "height": 112,
          "referenced_widgets": [
            "63a7f48e912a49c0815ea93e8fcb40c7",
            "1ff99a80420a4e89aec3cbc063eba852",
            "9f52cee80bd144bbbca01ecb7bec6aa3",
            "9bf388d7197c4ff59f23ffbc09a51f1c",
            "f6db81d1fa6742dfafc45beacec1a543",
            "4a949a02ae93471fa4a21a892c1580e0",
            "b00014791a9d417cbfb3a99b9c0b79e0",
            "13c08e118032492b9bd21d3f9f6ea8d6"
          ]
        },
        "outputId": "b768b4c4-0c75-46c3-b140-c23186c9109a"
      },
      "source": [
        "from transformers import BertTokenizer\n",
        "\n",
        "tokenizer = BertTokenizer.from_pretrained('bert-base-uncased', do_lower_case=True)"
      ],
      "execution_count": 29,
      "outputs": [
        {
          "output_type": "display_data",
          "data": {
            "text/html": [
              "<p style=\"color: red;\">\n",
              "The default version of TensorFlow in Colab will soon switch to TensorFlow 2.x.<br>\n",
              "We recommend you <a href=\"https://www.tensorflow.org/guide/migrate\" target=\"_blank\">upgrade</a> now \n",
              "or ensure your notebook will continue to use TensorFlow 1.x via the <code>%tensorflow_version 1.x</code> magic:\n",
              "<a href=\"https://colab.research.google.com/notebooks/tensorflow_version.ipynb\" target=\"_blank\">more info</a>.</p>\n"
            ],
            "text/plain": [
              "<IPython.core.display.HTML object>"
            ]
          },
          "metadata": {
            "tags": []
          }
        },
        {
          "output_type": "display_data",
          "data": {
            "application/vnd.jupyter.widget-view+json": {
              "model_id": "63a7f48e912a49c0815ea93e8fcb40c7",
              "version_minor": 0,
              "version_major": 2
            },
            "text/plain": [
              "HBox(children=(IntProgress(value=0, description='Downloading', max=231508, style=ProgressStyle(description_wid…"
            ]
          },
          "metadata": {
            "tags": []
          }
        },
        {
          "output_type": "stream",
          "text": [
            "\n"
          ],
          "name": "stdout"
        }
      ]
    },
    {
      "cell_type": "code",
      "metadata": {
        "id": "-HGTznPtjAqa",
        "colab_type": "code",
        "colab": {
          "base_uri": "https://localhost:8080/",
          "height": 88
        },
        "outputId": "917d34a5-94f2-4c23-9e6e-a18694fe129c"
      },
      "source": [
        "print('Original: ',tweets[0])\n",
        "print('Tokenized: ',tokenizer.tokenize(tweets[0]))\n",
        "print('Token IDs: ',tokenizer.convert_tokens_to_ids(tokenizer.tokenize(tweets[0])))"
      ],
      "execution_count": 30,
      "outputs": [
        {
          "output_type": "stream",
          "text": [
            "Original:  We are not only going to legalize marijuana; we are going to expunge past convictions for marijuana possession. Tha \n",
            "Tokenized:  ['we', 'are', 'not', 'only', 'going', 'to', 'legal', '##ize', 'marijuana', ';', 'we', 'are', 'going', 'to', 'ex', '##pu', '##nge', 'past', 'convictions', 'for', 'marijuana', 'possession', '.', 'tha']\n",
            "Token IDs:  [2057, 2024, 2025, 2069, 2183, 2000, 3423, 4697, 16204, 1025, 2057, 2024, 2183, 2000, 4654, 14289, 15465, 2627, 20488, 2005, 16204, 6664, 1012, 22794]\n"
          ],
          "name": "stdout"
        }
      ]
    },
    {
      "cell_type": "code",
      "metadata": {
        "id": "f1SX682ujNIw",
        "colab_type": "code",
        "colab": {
          "base_uri": "https://localhost:8080/",
          "height": 34
        },
        "outputId": "911476ff-5095-4178-94d4-062e6ed0884b"
      },
      "source": [
        "input_ids = []\n",
        "\n",
        "for tweet in tweets:\n",
        "  encoded_tweet = tokenizer.encode(tweet,add_special_tokens=True)\n",
        "  input_ids.append(encoded_tweet)\n",
        "\n",
        "print('Max length: ', max([len(tweet) for tweet in input_ids]))"
      ],
      "execution_count": 31,
      "outputs": [
        {
          "output_type": "stream",
          "text": [
            "Max length:  52\n"
          ],
          "name": "stdout"
        }
      ]
    },
    {
      "cell_type": "code",
      "metadata": {
        "id": "CHmWD0_bn4wQ",
        "colab_type": "code",
        "colab": {}
      },
      "source": [
        "from keras_preprocessing.sequence import pad_sequences\n",
        "\n",
        "MAX_LEN = 64\n",
        "\n",
        "input_ids = pad_sequences(input_ids,maxlen=MAX_LEN,dtype='long',value=0, truncating='post',padding='post')\n"
      ],
      "execution_count": 0,
      "outputs": []
    },
    {
      "cell_type": "code",
      "metadata": {
        "id": "b_fXmPbXodXQ",
        "colab_type": "code",
        "colab": {}
      },
      "source": [
        "attention_mask = []\n",
        "\n",
        "for tweet in input_ids:\n",
        "  att_mask = [int(token_id>0) for token_id in tweet]\n",
        "  attention_mask.append(att_mask)"
      ],
      "execution_count": 0,
      "outputs": []
    },
    {
      "cell_type": "code",
      "metadata": {
        "id": "-oXqYGfcpIm-",
        "colab_type": "code",
        "colab": {}
      },
      "source": [
        " from sklearn.model_selection import train_test_split\n",
        "\n",
        " train_inputs, validation_inputs, train_labels, validation_labels = train_test_split(input_ids,labels,random_state=2018,test_size=0.1)\n",
        "\n",
        " train_masks, validation_masks, _, _, = train_test_split(attention_mask,labels,random_state=2018,test_size=0.1)"
      ],
      "execution_count": 0,
      "outputs": []
    },
    {
      "cell_type": "code",
      "metadata": {
        "id": "xmVcP5ZwqOVJ",
        "colab_type": "code",
        "colab": {}
      },
      "source": [
        "train_inputs = torch.tensor(train_inputs)\n",
        "validation_inputs = torch.tensor(validation_inputs)\n",
        "\n",
        "train_labels = torch.tensor(train_labels)\n",
        "validation_labels = torch.tensor(validation_labels)\n",
        "\n",
        "train_masks = torch.tensor(train_masks)\n",
        "validation_masks = torch.tensor(validation_masks)"
      ],
      "execution_count": 0,
      "outputs": []
    },
    {
      "cell_type": "code",
      "metadata": {
        "id": "_2KlsJPMrnIC",
        "colab_type": "code",
        "colab": {}
      },
      "source": [
        "from torch.utils.data import TensorDataset, DataLoader, RandomSampler, SequentialSampler\n",
        "\n",
        "batch_size = 32\n",
        "\n",
        "train_data = TensorDataset(train_inputs,train_masks,train_labels)\n",
        "train_sampler = RandomSampler(train_data)\n",
        "train_dataloader = DataLoader(train_data,sampler=train_sampler,batch_size=batch_size)\n",
        "\n",
        "validation_data = TensorDataset(validation_inputs,validation_masks,validation_labels)\n",
        "validation_sampler = SequentialSampler(validation_data)\n",
        "validation_dataloader = DataLoader(validation_data,sampler=validation_sampler,batch_size = batch_size)"
      ],
      "execution_count": 0,
      "outputs": []
    },
    {
      "cell_type": "code",
      "metadata": {
        "id": "AkrxCnlbsoFY",
        "colab_type": "code",
        "colab": {
          "base_uri": "https://localhost:8080/",
          "height": 1000,
          "referenced_widgets": [
            "7bf032a73d524f00964696a33ab00a3a",
            "e0cdefa4dd194f799e71d494cc3a3430",
            "4f84a4b8649344298aa59b7d98c147a7",
            "1206942fe15941b6b9ee78f9c7b6b15d",
            "c7745f88788143158287749ace723cfc",
            "99763726489c478c95c0abe70c16b2ef",
            "f0eab028dd524f1d81931b171e5963a5",
            "7fb16c9af2b945dd82bff256fd685472",
            "a2e7db0071774f2592bb8b41bcc3c647",
            "39e0f9dc7575425bb967d7f729b255dd",
            "fbdc02a8ffd34ba59b4b9801841c2228",
            "1d15af2b8bbf44eeaf6f7c63113f07cb",
            "3867c93d2e904286b7f2e60ddfaed8f5",
            "8fc09d76db3c46cda835552a28fd46ee",
            "5a0ec0e2167044a1a9d14d5eb6ccaf41",
            "201c4431e53c43568c8e6d0e6a943401"
          ]
        },
        "outputId": "3fc3ceae-1f18-4b8c-b9ec-6fee8c89a753"
      },
      "source": [
        "from transformers import BertForSequenceClassification, AdamW, BertConfig\n",
        "\n",
        "model = BertForSequenceClassification.from_pretrained('bert-base-uncased',num_labels=2,output_attentions=False,output_hidden_states=False)\n",
        "\n",
        "model.cuda()"
      ],
      "execution_count": 37,
      "outputs": [
        {
          "output_type": "display_data",
          "data": {
            "application/vnd.jupyter.widget-view+json": {
              "model_id": "7bf032a73d524f00964696a33ab00a3a",
              "version_minor": 0,
              "version_major": 2
            },
            "text/plain": [
              "HBox(children=(IntProgress(value=0, description='Downloading', max=361, style=ProgressStyle(description_width=…"
            ]
          },
          "metadata": {
            "tags": []
          }
        },
        {
          "output_type": "stream",
          "text": [
            "\n"
          ],
          "name": "stdout"
        },
        {
          "output_type": "display_data",
          "data": {
            "application/vnd.jupyter.widget-view+json": {
              "model_id": "a2e7db0071774f2592bb8b41bcc3c647",
              "version_minor": 0,
              "version_major": 2
            },
            "text/plain": [
              "HBox(children=(IntProgress(value=0, description='Downloading', max=440473133, style=ProgressStyle(description_…"
            ]
          },
          "metadata": {
            "tags": []
          }
        },
        {
          "output_type": "stream",
          "text": [
            "\n"
          ],
          "name": "stdout"
        },
        {
          "output_type": "execute_result",
          "data": {
            "text/plain": [
              "BertForSequenceClassification(\n",
              "  (bert): BertModel(\n",
              "    (embeddings): BertEmbeddings(\n",
              "      (word_embeddings): Embedding(30522, 768, padding_idx=0)\n",
              "      (position_embeddings): Embedding(512, 768)\n",
              "      (token_type_embeddings): Embedding(2, 768)\n",
              "      (LayerNorm): LayerNorm((768,), eps=1e-12, elementwise_affine=True)\n",
              "      (dropout): Dropout(p=0.1, inplace=False)\n",
              "    )\n",
              "    (encoder): BertEncoder(\n",
              "      (layer): ModuleList(\n",
              "        (0): BertLayer(\n",
              "          (attention): BertAttention(\n",
              "            (self): BertSelfAttention(\n",
              "              (query): Linear(in_features=768, out_features=768, bias=True)\n",
              "              (key): Linear(in_features=768, out_features=768, bias=True)\n",
              "              (value): Linear(in_features=768, out_features=768, bias=True)\n",
              "              (dropout): Dropout(p=0.1, inplace=False)\n",
              "            )\n",
              "            (output): BertSelfOutput(\n",
              "              (dense): Linear(in_features=768, out_features=768, bias=True)\n",
              "              (LayerNorm): LayerNorm((768,), eps=1e-12, elementwise_affine=True)\n",
              "              (dropout): Dropout(p=0.1, inplace=False)\n",
              "            )\n",
              "          )\n",
              "          (intermediate): BertIntermediate(\n",
              "            (dense): Linear(in_features=768, out_features=3072, bias=True)\n",
              "          )\n",
              "          (output): BertOutput(\n",
              "            (dense): Linear(in_features=3072, out_features=768, bias=True)\n",
              "            (LayerNorm): LayerNorm((768,), eps=1e-12, elementwise_affine=True)\n",
              "            (dropout): Dropout(p=0.1, inplace=False)\n",
              "          )\n",
              "        )\n",
              "        (1): BertLayer(\n",
              "          (attention): BertAttention(\n",
              "            (self): BertSelfAttention(\n",
              "              (query): Linear(in_features=768, out_features=768, bias=True)\n",
              "              (key): Linear(in_features=768, out_features=768, bias=True)\n",
              "              (value): Linear(in_features=768, out_features=768, bias=True)\n",
              "              (dropout): Dropout(p=0.1, inplace=False)\n",
              "            )\n",
              "            (output): BertSelfOutput(\n",
              "              (dense): Linear(in_features=768, out_features=768, bias=True)\n",
              "              (LayerNorm): LayerNorm((768,), eps=1e-12, elementwise_affine=True)\n",
              "              (dropout): Dropout(p=0.1, inplace=False)\n",
              "            )\n",
              "          )\n",
              "          (intermediate): BertIntermediate(\n",
              "            (dense): Linear(in_features=768, out_features=3072, bias=True)\n",
              "          )\n",
              "          (output): BertOutput(\n",
              "            (dense): Linear(in_features=3072, out_features=768, bias=True)\n",
              "            (LayerNorm): LayerNorm((768,), eps=1e-12, elementwise_affine=True)\n",
              "            (dropout): Dropout(p=0.1, inplace=False)\n",
              "          )\n",
              "        )\n",
              "        (2): BertLayer(\n",
              "          (attention): BertAttention(\n",
              "            (self): BertSelfAttention(\n",
              "              (query): Linear(in_features=768, out_features=768, bias=True)\n",
              "              (key): Linear(in_features=768, out_features=768, bias=True)\n",
              "              (value): Linear(in_features=768, out_features=768, bias=True)\n",
              "              (dropout): Dropout(p=0.1, inplace=False)\n",
              "            )\n",
              "            (output): BertSelfOutput(\n",
              "              (dense): Linear(in_features=768, out_features=768, bias=True)\n",
              "              (LayerNorm): LayerNorm((768,), eps=1e-12, elementwise_affine=True)\n",
              "              (dropout): Dropout(p=0.1, inplace=False)\n",
              "            )\n",
              "          )\n",
              "          (intermediate): BertIntermediate(\n",
              "            (dense): Linear(in_features=768, out_features=3072, bias=True)\n",
              "          )\n",
              "          (output): BertOutput(\n",
              "            (dense): Linear(in_features=3072, out_features=768, bias=True)\n",
              "            (LayerNorm): LayerNorm((768,), eps=1e-12, elementwise_affine=True)\n",
              "            (dropout): Dropout(p=0.1, inplace=False)\n",
              "          )\n",
              "        )\n",
              "        (3): BertLayer(\n",
              "          (attention): BertAttention(\n",
              "            (self): BertSelfAttention(\n",
              "              (query): Linear(in_features=768, out_features=768, bias=True)\n",
              "              (key): Linear(in_features=768, out_features=768, bias=True)\n",
              "              (value): Linear(in_features=768, out_features=768, bias=True)\n",
              "              (dropout): Dropout(p=0.1, inplace=False)\n",
              "            )\n",
              "            (output): BertSelfOutput(\n",
              "              (dense): Linear(in_features=768, out_features=768, bias=True)\n",
              "              (LayerNorm): LayerNorm((768,), eps=1e-12, elementwise_affine=True)\n",
              "              (dropout): Dropout(p=0.1, inplace=False)\n",
              "            )\n",
              "          )\n",
              "          (intermediate): BertIntermediate(\n",
              "            (dense): Linear(in_features=768, out_features=3072, bias=True)\n",
              "          )\n",
              "          (output): BertOutput(\n",
              "            (dense): Linear(in_features=3072, out_features=768, bias=True)\n",
              "            (LayerNorm): LayerNorm((768,), eps=1e-12, elementwise_affine=True)\n",
              "            (dropout): Dropout(p=0.1, inplace=False)\n",
              "          )\n",
              "        )\n",
              "        (4): BertLayer(\n",
              "          (attention): BertAttention(\n",
              "            (self): BertSelfAttention(\n",
              "              (query): Linear(in_features=768, out_features=768, bias=True)\n",
              "              (key): Linear(in_features=768, out_features=768, bias=True)\n",
              "              (value): Linear(in_features=768, out_features=768, bias=True)\n",
              "              (dropout): Dropout(p=0.1, inplace=False)\n",
              "            )\n",
              "            (output): BertSelfOutput(\n",
              "              (dense): Linear(in_features=768, out_features=768, bias=True)\n",
              "              (LayerNorm): LayerNorm((768,), eps=1e-12, elementwise_affine=True)\n",
              "              (dropout): Dropout(p=0.1, inplace=False)\n",
              "            )\n",
              "          )\n",
              "          (intermediate): BertIntermediate(\n",
              "            (dense): Linear(in_features=768, out_features=3072, bias=True)\n",
              "          )\n",
              "          (output): BertOutput(\n",
              "            (dense): Linear(in_features=3072, out_features=768, bias=True)\n",
              "            (LayerNorm): LayerNorm((768,), eps=1e-12, elementwise_affine=True)\n",
              "            (dropout): Dropout(p=0.1, inplace=False)\n",
              "          )\n",
              "        )\n",
              "        (5): BertLayer(\n",
              "          (attention): BertAttention(\n",
              "            (self): BertSelfAttention(\n",
              "              (query): Linear(in_features=768, out_features=768, bias=True)\n",
              "              (key): Linear(in_features=768, out_features=768, bias=True)\n",
              "              (value): Linear(in_features=768, out_features=768, bias=True)\n",
              "              (dropout): Dropout(p=0.1, inplace=False)\n",
              "            )\n",
              "            (output): BertSelfOutput(\n",
              "              (dense): Linear(in_features=768, out_features=768, bias=True)\n",
              "              (LayerNorm): LayerNorm((768,), eps=1e-12, elementwise_affine=True)\n",
              "              (dropout): Dropout(p=0.1, inplace=False)\n",
              "            )\n",
              "          )\n",
              "          (intermediate): BertIntermediate(\n",
              "            (dense): Linear(in_features=768, out_features=3072, bias=True)\n",
              "          )\n",
              "          (output): BertOutput(\n",
              "            (dense): Linear(in_features=3072, out_features=768, bias=True)\n",
              "            (LayerNorm): LayerNorm((768,), eps=1e-12, elementwise_affine=True)\n",
              "            (dropout): Dropout(p=0.1, inplace=False)\n",
              "          )\n",
              "        )\n",
              "        (6): BertLayer(\n",
              "          (attention): BertAttention(\n",
              "            (self): BertSelfAttention(\n",
              "              (query): Linear(in_features=768, out_features=768, bias=True)\n",
              "              (key): Linear(in_features=768, out_features=768, bias=True)\n",
              "              (value): Linear(in_features=768, out_features=768, bias=True)\n",
              "              (dropout): Dropout(p=0.1, inplace=False)\n",
              "            )\n",
              "            (output): BertSelfOutput(\n",
              "              (dense): Linear(in_features=768, out_features=768, bias=True)\n",
              "              (LayerNorm): LayerNorm((768,), eps=1e-12, elementwise_affine=True)\n",
              "              (dropout): Dropout(p=0.1, inplace=False)\n",
              "            )\n",
              "          )\n",
              "          (intermediate): BertIntermediate(\n",
              "            (dense): Linear(in_features=768, out_features=3072, bias=True)\n",
              "          )\n",
              "          (output): BertOutput(\n",
              "            (dense): Linear(in_features=3072, out_features=768, bias=True)\n",
              "            (LayerNorm): LayerNorm((768,), eps=1e-12, elementwise_affine=True)\n",
              "            (dropout): Dropout(p=0.1, inplace=False)\n",
              "          )\n",
              "        )\n",
              "        (7): BertLayer(\n",
              "          (attention): BertAttention(\n",
              "            (self): BertSelfAttention(\n",
              "              (query): Linear(in_features=768, out_features=768, bias=True)\n",
              "              (key): Linear(in_features=768, out_features=768, bias=True)\n",
              "              (value): Linear(in_features=768, out_features=768, bias=True)\n",
              "              (dropout): Dropout(p=0.1, inplace=False)\n",
              "            )\n",
              "            (output): BertSelfOutput(\n",
              "              (dense): Linear(in_features=768, out_features=768, bias=True)\n",
              "              (LayerNorm): LayerNorm((768,), eps=1e-12, elementwise_affine=True)\n",
              "              (dropout): Dropout(p=0.1, inplace=False)\n",
              "            )\n",
              "          )\n",
              "          (intermediate): BertIntermediate(\n",
              "            (dense): Linear(in_features=768, out_features=3072, bias=True)\n",
              "          )\n",
              "          (output): BertOutput(\n",
              "            (dense): Linear(in_features=3072, out_features=768, bias=True)\n",
              "            (LayerNorm): LayerNorm((768,), eps=1e-12, elementwise_affine=True)\n",
              "            (dropout): Dropout(p=0.1, inplace=False)\n",
              "          )\n",
              "        )\n",
              "        (8): BertLayer(\n",
              "          (attention): BertAttention(\n",
              "            (self): BertSelfAttention(\n",
              "              (query): Linear(in_features=768, out_features=768, bias=True)\n",
              "              (key): Linear(in_features=768, out_features=768, bias=True)\n",
              "              (value): Linear(in_features=768, out_features=768, bias=True)\n",
              "              (dropout): Dropout(p=0.1, inplace=False)\n",
              "            )\n",
              "            (output): BertSelfOutput(\n",
              "              (dense): Linear(in_features=768, out_features=768, bias=True)\n",
              "              (LayerNorm): LayerNorm((768,), eps=1e-12, elementwise_affine=True)\n",
              "              (dropout): Dropout(p=0.1, inplace=False)\n",
              "            )\n",
              "          )\n",
              "          (intermediate): BertIntermediate(\n",
              "            (dense): Linear(in_features=768, out_features=3072, bias=True)\n",
              "          )\n",
              "          (output): BertOutput(\n",
              "            (dense): Linear(in_features=3072, out_features=768, bias=True)\n",
              "            (LayerNorm): LayerNorm((768,), eps=1e-12, elementwise_affine=True)\n",
              "            (dropout): Dropout(p=0.1, inplace=False)\n",
              "          )\n",
              "        )\n",
              "        (9): BertLayer(\n",
              "          (attention): BertAttention(\n",
              "            (self): BertSelfAttention(\n",
              "              (query): Linear(in_features=768, out_features=768, bias=True)\n",
              "              (key): Linear(in_features=768, out_features=768, bias=True)\n",
              "              (value): Linear(in_features=768, out_features=768, bias=True)\n",
              "              (dropout): Dropout(p=0.1, inplace=False)\n",
              "            )\n",
              "            (output): BertSelfOutput(\n",
              "              (dense): Linear(in_features=768, out_features=768, bias=True)\n",
              "              (LayerNorm): LayerNorm((768,), eps=1e-12, elementwise_affine=True)\n",
              "              (dropout): Dropout(p=0.1, inplace=False)\n",
              "            )\n",
              "          )\n",
              "          (intermediate): BertIntermediate(\n",
              "            (dense): Linear(in_features=768, out_features=3072, bias=True)\n",
              "          )\n",
              "          (output): BertOutput(\n",
              "            (dense): Linear(in_features=3072, out_features=768, bias=True)\n",
              "            (LayerNorm): LayerNorm((768,), eps=1e-12, elementwise_affine=True)\n",
              "            (dropout): Dropout(p=0.1, inplace=False)\n",
              "          )\n",
              "        )\n",
              "        (10): BertLayer(\n",
              "          (attention): BertAttention(\n",
              "            (self): BertSelfAttention(\n",
              "              (query): Linear(in_features=768, out_features=768, bias=True)\n",
              "              (key): Linear(in_features=768, out_features=768, bias=True)\n",
              "              (value): Linear(in_features=768, out_features=768, bias=True)\n",
              "              (dropout): Dropout(p=0.1, inplace=False)\n",
              "            )\n",
              "            (output): BertSelfOutput(\n",
              "              (dense): Linear(in_features=768, out_features=768, bias=True)\n",
              "              (LayerNorm): LayerNorm((768,), eps=1e-12, elementwise_affine=True)\n",
              "              (dropout): Dropout(p=0.1, inplace=False)\n",
              "            )\n",
              "          )\n",
              "          (intermediate): BertIntermediate(\n",
              "            (dense): Linear(in_features=768, out_features=3072, bias=True)\n",
              "          )\n",
              "          (output): BertOutput(\n",
              "            (dense): Linear(in_features=3072, out_features=768, bias=True)\n",
              "            (LayerNorm): LayerNorm((768,), eps=1e-12, elementwise_affine=True)\n",
              "            (dropout): Dropout(p=0.1, inplace=False)\n",
              "          )\n",
              "        )\n",
              "        (11): BertLayer(\n",
              "          (attention): BertAttention(\n",
              "            (self): BertSelfAttention(\n",
              "              (query): Linear(in_features=768, out_features=768, bias=True)\n",
              "              (key): Linear(in_features=768, out_features=768, bias=True)\n",
              "              (value): Linear(in_features=768, out_features=768, bias=True)\n",
              "              (dropout): Dropout(p=0.1, inplace=False)\n",
              "            )\n",
              "            (output): BertSelfOutput(\n",
              "              (dense): Linear(in_features=768, out_features=768, bias=True)\n",
              "              (LayerNorm): LayerNorm((768,), eps=1e-12, elementwise_affine=True)\n",
              "              (dropout): Dropout(p=0.1, inplace=False)\n",
              "            )\n",
              "          )\n",
              "          (intermediate): BertIntermediate(\n",
              "            (dense): Linear(in_features=768, out_features=3072, bias=True)\n",
              "          )\n",
              "          (output): BertOutput(\n",
              "            (dense): Linear(in_features=3072, out_features=768, bias=True)\n",
              "            (LayerNorm): LayerNorm((768,), eps=1e-12, elementwise_affine=True)\n",
              "            (dropout): Dropout(p=0.1, inplace=False)\n",
              "          )\n",
              "        )\n",
              "      )\n",
              "    )\n",
              "    (pooler): BertPooler(\n",
              "      (dense): Linear(in_features=768, out_features=768, bias=True)\n",
              "      (activation): Tanh()\n",
              "    )\n",
              "  )\n",
              "  (dropout): Dropout(p=0.1, inplace=False)\n",
              "  (classifier): Linear(in_features=768, out_features=2, bias=True)\n",
              ")"
            ]
          },
          "metadata": {
            "tags": []
          },
          "execution_count": 37
        }
      ]
    },
    {
      "cell_type": "code",
      "metadata": {
        "id": "12pfRJ1rtE8h",
        "colab_type": "code",
        "colab": {}
      },
      "source": [
        "optimizer = AdamW(model.parameters(),lr=2e-5,eps=1e-8)"
      ],
      "execution_count": 0,
      "outputs": []
    },
    {
      "cell_type": "code",
      "metadata": {
        "id": "STsx0GkPtdK3",
        "colab_type": "code",
        "colab": {}
      },
      "source": [
        "from transformers import get_linear_schedule_with_warmup\n",
        "\n",
        "epochs = 4\n",
        "\n",
        "total_steps = len(train_dataloader)*epochs\n",
        "\n",
        "scheduler = get_linear_schedule_with_warmup(optimizer,num_warmup_steps = 0, num_training_steps = total_steps)"
      ],
      "execution_count": 0,
      "outputs": []
    },
    {
      "cell_type": "code",
      "metadata": {
        "id": "cBl5Mj-FtxZv",
        "colab_type": "code",
        "colab": {}
      },
      "source": [
        "import numpy as np\n",
        "\n",
        "def flat_accuracy(preds,labels):\n",
        "  pred_flat = np.argmax(preds,axis=1).flatten()\n",
        "  labels_flat = labels.flatten()\n",
        "  return np.sum(pred_flat==labels_flat)/len(labels_flat)"
      ],
      "execution_count": 0,
      "outputs": []
    },
    {
      "cell_type": "code",
      "metadata": {
        "id": "ynsd4V12uI3M",
        "colab_type": "code",
        "colab": {}
      },
      "source": [
        "import time\n",
        "import datetime\n",
        "\n",
        "def format_time(elapsed):\n",
        "  elapsed_rounded = int(round(elapsed))\n",
        "  return str(datetime.timedelta(seconds=elapsed_rounded))"
      ],
      "execution_count": 0,
      "outputs": []
    },
    {
      "cell_type": "code",
      "metadata": {
        "id": "CE6jIktBuduM",
        "colab_type": "code",
        "colab": {
          "base_uri": "https://localhost:8080/",
          "height": 1000
        },
        "outputId": "bc1e944a-8e8b-4652-a55b-f357fbf705f0"
      },
      "source": [
        "import random\n",
        "\n",
        "seed_val = 42\n",
        "random.seed(seed_val)\n",
        "np.random.seed(seed_val)\n",
        "torch.manual_seed(seed_val)\n",
        "torch.cuda.manual_seed_all(seed_val)\n",
        "\n",
        "loss_values = []\n",
        "\n",
        "for epoch_i in range(0,epochs):\n",
        "  print('')\n",
        "  print('======== Epoch {:} / {:} ========'.format(epoch_i + 1, epochs))\n",
        "  print('Training...')\n",
        "\n",
        "  t0 = time.time()\n",
        "\n",
        "  total_loss = 0\n",
        "\n",
        "  model.train()\n",
        "\n",
        "  for step,batch in enumerate(train_dataloader):\n",
        "    if step % 40 == 0 and not step == 0:\n",
        "      elapsed = format_time(time.time() - t0)\n",
        "      print('  Batch {:>5,}  of  {:>5,}.    Elapsed: {:}.'.format(step, len(train_dataloader), elapsed))\n",
        "\n",
        "    b_input_ids = batch[0].to(device)\n",
        "    b_input_mask = batch[1].to(device)\n",
        "    b_labels = batch[2].long().to(device)\n",
        "\n",
        "    model.zero_grad()\n",
        "\n",
        "    outputs = model(b_input_ids,token_type_ids = None, attention_mask = b_input_mask,labels=b_labels)\n",
        "\n",
        "    loss = outputs[0]\n",
        "\n",
        "    total_loss += loss.item()\n",
        "\n",
        "    loss.backward()\n",
        "\n",
        "    torch.nn.utils.clip_grad_norm_(model.parameters(),1.0)\n",
        "\n",
        "    optimizer.step()\n",
        "\n",
        "    scheduler.step()\n",
        "\n",
        "  avg_train_loss = total_loss / len(train_dataloader)\n",
        "\n",
        "  loss_values.append(avg_train_loss)\n",
        "\n",
        "  print(\"\")\n",
        "  print(\"  Average training loss: {0:.2f}\".format(avg_train_loss))\n",
        "  print(\"  Training epcoh took: {:}\".format(format_time(time.time() - t0)))\n",
        "\n",
        "  print(\"\")\n",
        "  print(\"Running Validation...\")\n",
        "\n",
        "  t0 = time.time()\n",
        "\n",
        "  model.eval()\n",
        "\n",
        "  eval_loss,eval_accuracy=0,0\n",
        "  nb_eval_steps,nb_eval_examples = 0,0\n",
        "\n",
        "  for batch in validation_dataloader:\n",
        "    batch = tuple(t.to(device) for t in batch)\n",
        "\n",
        "    b_input_ids, b_input_mask, b_labels = batch\n",
        "\n",
        "    with torch.no_grad():\n",
        "      outputs = model(b_input_ids,token_type_ids = None,attention_mask = b_input_mask)\n",
        "\n",
        "    logits = outputs[0]\n",
        "\n",
        "    logits = logits.detach().cpu().numpy()\n",
        "    label_ids = b_labels.to('cpu').numpy()\n",
        "\n",
        "    tmp_eval_accuracy = flat_accuracy(logits,label_ids)\n",
        "\n",
        "    eval_accuracy += tmp_eval_accuracy\n",
        "\n",
        "    nb_eval_steps += 1\n",
        "  print(\"  Accuracy: {0:.2f}\".format(eval_accuracy/nb_eval_steps))\n",
        "  print(\"  Validation took: {:}\".format(format_time(time.time() - t0)))\n",
        "\n",
        "print(\"\")\n",
        "print(\"Training complete!\")\n"
      ],
      "execution_count": 42,
      "outputs": [
        {
          "output_type": "stream",
          "text": [
            "\n",
            "======== Epoch 1 / 4 ========\n",
            "Training...\n",
            "  Batch    40  of  2,850.    Elapsed: 0:00:15.\n",
            "  Batch    80  of  2,850.    Elapsed: 0:00:30.\n",
            "  Batch   120  of  2,850.    Elapsed: 0:00:46.\n",
            "  Batch   160  of  2,850.    Elapsed: 0:01:02.\n",
            "  Batch   200  of  2,850.    Elapsed: 0:01:18.\n",
            "  Batch   240  of  2,850.    Elapsed: 0:01:34.\n",
            "  Batch   280  of  2,850.    Elapsed: 0:01:51.\n",
            "  Batch   320  of  2,850.    Elapsed: 0:02:08.\n",
            "  Batch   360  of  2,850.    Elapsed: 0:02:24.\n",
            "  Batch   400  of  2,850.    Elapsed: 0:02:40.\n",
            "  Batch   440  of  2,850.    Elapsed: 0:02:57.\n",
            "  Batch   480  of  2,850.    Elapsed: 0:03:13.\n",
            "  Batch   520  of  2,850.    Elapsed: 0:03:30.\n",
            "  Batch   560  of  2,850.    Elapsed: 0:03:46.\n",
            "  Batch   600  of  2,850.    Elapsed: 0:04:03.\n",
            "  Batch   640  of  2,850.    Elapsed: 0:04:19.\n",
            "  Batch   680  of  2,850.    Elapsed: 0:04:35.\n",
            "  Batch   720  of  2,850.    Elapsed: 0:04:52.\n",
            "  Batch   760  of  2,850.    Elapsed: 0:05:08.\n",
            "  Batch   800  of  2,850.    Elapsed: 0:05:25.\n",
            "  Batch   840  of  2,850.    Elapsed: 0:05:41.\n",
            "  Batch   880  of  2,850.    Elapsed: 0:05:58.\n",
            "  Batch   920  of  2,850.    Elapsed: 0:06:14.\n",
            "  Batch   960  of  2,850.    Elapsed: 0:06:30.\n",
            "  Batch 1,000  of  2,850.    Elapsed: 0:06:47.\n",
            "  Batch 1,040  of  2,850.    Elapsed: 0:07:03.\n",
            "  Batch 1,080  of  2,850.    Elapsed: 0:07:20.\n",
            "  Batch 1,120  of  2,850.    Elapsed: 0:07:36.\n",
            "  Batch 1,160  of  2,850.    Elapsed: 0:07:53.\n",
            "  Batch 1,200  of  2,850.    Elapsed: 0:08:09.\n",
            "  Batch 1,240  of  2,850.    Elapsed: 0:08:25.\n",
            "  Batch 1,280  of  2,850.    Elapsed: 0:08:42.\n",
            "  Batch 1,320  of  2,850.    Elapsed: 0:08:58.\n",
            "  Batch 1,360  of  2,850.    Elapsed: 0:09:15.\n",
            "  Batch 1,400  of  2,850.    Elapsed: 0:09:31.\n",
            "  Batch 1,440  of  2,850.    Elapsed: 0:09:48.\n",
            "  Batch 1,480  of  2,850.    Elapsed: 0:10:04.\n",
            "  Batch 1,520  of  2,850.    Elapsed: 0:10:21.\n",
            "  Batch 1,560  of  2,850.    Elapsed: 0:10:37.\n",
            "  Batch 1,600  of  2,850.    Elapsed: 0:10:53.\n",
            "  Batch 1,640  of  2,850.    Elapsed: 0:11:10.\n",
            "  Batch 1,680  of  2,850.    Elapsed: 0:11:26.\n",
            "  Batch 1,720  of  2,850.    Elapsed: 0:11:43.\n",
            "  Batch 1,760  of  2,850.    Elapsed: 0:11:59.\n",
            "  Batch 1,800  of  2,850.    Elapsed: 0:12:15.\n",
            "  Batch 1,840  of  2,850.    Elapsed: 0:12:32.\n",
            "  Batch 1,880  of  2,850.    Elapsed: 0:12:48.\n",
            "  Batch 1,920  of  2,850.    Elapsed: 0:13:05.\n",
            "  Batch 1,960  of  2,850.    Elapsed: 0:13:21.\n",
            "  Batch 2,000  of  2,850.    Elapsed: 0:13:38.\n",
            "  Batch 2,040  of  2,850.    Elapsed: 0:13:54.\n",
            "  Batch 2,080  of  2,850.    Elapsed: 0:14:10.\n",
            "  Batch 2,120  of  2,850.    Elapsed: 0:14:27.\n",
            "  Batch 2,160  of  2,850.    Elapsed: 0:14:43.\n",
            "  Batch 2,200  of  2,850.    Elapsed: 0:15:00.\n",
            "  Batch 2,240  of  2,850.    Elapsed: 0:15:16.\n",
            "  Batch 2,280  of  2,850.    Elapsed: 0:15:33.\n",
            "  Batch 2,320  of  2,850.    Elapsed: 0:15:49.\n",
            "  Batch 2,360  of  2,850.    Elapsed: 0:16:05.\n",
            "  Batch 2,400  of  2,850.    Elapsed: 0:16:22.\n",
            "  Batch 2,440  of  2,850.    Elapsed: 0:16:38.\n",
            "  Batch 2,480  of  2,850.    Elapsed: 0:16:55.\n",
            "  Batch 2,520  of  2,850.    Elapsed: 0:17:11.\n",
            "  Batch 2,560  of  2,850.    Elapsed: 0:17:28.\n",
            "  Batch 2,600  of  2,850.    Elapsed: 0:17:44.\n",
            "  Batch 2,640  of  2,850.    Elapsed: 0:18:01.\n",
            "  Batch 2,680  of  2,850.    Elapsed: 0:18:17.\n",
            "  Batch 2,720  of  2,850.    Elapsed: 0:18:33.\n",
            "  Batch 2,760  of  2,850.    Elapsed: 0:18:50.\n",
            "  Batch 2,800  of  2,850.    Elapsed: 0:19:06.\n",
            "  Batch 2,840  of  2,850.    Elapsed: 0:19:23.\n",
            "\n",
            "  Average training loss: 0.46\n",
            "  Training epcoh took: 0:19:27\n",
            "\n",
            "Running Validation...\n",
            "  Accuracy: 0.82\n",
            "  Validation took: 0:00:43\n",
            "\n",
            "======== Epoch 2 / 4 ========\n",
            "Training...\n",
            "  Batch    40  of  2,850.    Elapsed: 0:00:16.\n",
            "  Batch    80  of  2,850.    Elapsed: 0:00:33.\n",
            "  Batch   120  of  2,850.    Elapsed: 0:00:49.\n",
            "  Batch   160  of  2,850.    Elapsed: 0:01:06.\n",
            "  Batch   200  of  2,850.    Elapsed: 0:01:22.\n",
            "  Batch   240  of  2,850.    Elapsed: 0:01:39.\n",
            "  Batch   280  of  2,850.    Elapsed: 0:01:55.\n",
            "  Batch   320  of  2,850.    Elapsed: 0:02:11.\n",
            "  Batch   360  of  2,850.    Elapsed: 0:02:28.\n",
            "  Batch   400  of  2,850.    Elapsed: 0:02:44.\n",
            "  Batch   440  of  2,850.    Elapsed: 0:03:01.\n",
            "  Batch   480  of  2,850.    Elapsed: 0:03:17.\n",
            "  Batch   520  of  2,850.    Elapsed: 0:03:33.\n",
            "  Batch   560  of  2,850.    Elapsed: 0:03:50.\n",
            "  Batch   600  of  2,850.    Elapsed: 0:04:06.\n",
            "  Batch   640  of  2,850.    Elapsed: 0:04:23.\n",
            "  Batch   680  of  2,850.    Elapsed: 0:04:39.\n",
            "  Batch   720  of  2,850.    Elapsed: 0:04:55.\n",
            "  Batch   760  of  2,850.    Elapsed: 0:05:12.\n",
            "  Batch   800  of  2,850.    Elapsed: 0:05:28.\n",
            "  Batch   840  of  2,850.    Elapsed: 0:05:45.\n",
            "  Batch   880  of  2,850.    Elapsed: 0:06:01.\n",
            "  Batch   920  of  2,850.    Elapsed: 0:06:17.\n",
            "  Batch   960  of  2,850.    Elapsed: 0:06:34.\n",
            "  Batch 1,000  of  2,850.    Elapsed: 0:06:50.\n",
            "  Batch 1,040  of  2,850.    Elapsed: 0:07:07.\n",
            "  Batch 1,080  of  2,850.    Elapsed: 0:07:23.\n",
            "  Batch 1,120  of  2,850.    Elapsed: 0:07:40.\n",
            "  Batch 1,160  of  2,850.    Elapsed: 0:07:56.\n",
            "  Batch 1,200  of  2,850.    Elapsed: 0:08:13.\n",
            "  Batch 1,240  of  2,850.    Elapsed: 0:08:29.\n",
            "  Batch 1,280  of  2,850.    Elapsed: 0:08:45.\n",
            "  Batch 1,320  of  2,850.    Elapsed: 0:09:02.\n",
            "  Batch 1,360  of  2,850.    Elapsed: 0:09:18.\n",
            "  Batch 1,400  of  2,850.    Elapsed: 0:09:35.\n",
            "  Batch 1,440  of  2,850.    Elapsed: 0:09:51.\n",
            "  Batch 1,480  of  2,850.    Elapsed: 0:10:08.\n",
            "  Batch 1,520  of  2,850.    Elapsed: 0:10:24.\n",
            "  Batch 1,560  of  2,850.    Elapsed: 0:10:40.\n",
            "  Batch 1,600  of  2,850.    Elapsed: 0:10:57.\n",
            "  Batch 1,640  of  2,850.    Elapsed: 0:11:13.\n",
            "  Batch 1,680  of  2,850.    Elapsed: 0:11:30.\n",
            "  Batch 1,720  of  2,850.    Elapsed: 0:11:46.\n",
            "  Batch 1,760  of  2,850.    Elapsed: 0:12:02.\n",
            "  Batch 1,800  of  2,850.    Elapsed: 0:12:19.\n",
            "  Batch 1,840  of  2,850.    Elapsed: 0:12:35.\n",
            "  Batch 1,880  of  2,850.    Elapsed: 0:12:52.\n",
            "  Batch 1,920  of  2,850.    Elapsed: 0:13:08.\n",
            "  Batch 1,960  of  2,850.    Elapsed: 0:13:25.\n",
            "  Batch 2,000  of  2,850.    Elapsed: 0:13:41.\n",
            "  Batch 2,040  of  2,850.    Elapsed: 0:13:57.\n",
            "  Batch 2,080  of  2,850.    Elapsed: 0:14:14.\n",
            "  Batch 2,120  of  2,850.    Elapsed: 0:14:30.\n",
            "  Batch 2,160  of  2,850.    Elapsed: 0:14:47.\n",
            "  Batch 2,200  of  2,850.    Elapsed: 0:15:03.\n",
            "  Batch 2,240  of  2,850.    Elapsed: 0:15:19.\n",
            "  Batch 2,280  of  2,850.    Elapsed: 0:15:36.\n",
            "  Batch 2,320  of  2,850.    Elapsed: 0:15:52.\n",
            "  Batch 2,360  of  2,850.    Elapsed: 0:16:09.\n",
            "  Batch 2,400  of  2,850.    Elapsed: 0:16:25.\n",
            "  Batch 2,440  of  2,850.    Elapsed: 0:16:41.\n",
            "  Batch 2,480  of  2,850.    Elapsed: 0:16:58.\n",
            "  Batch 2,520  of  2,850.    Elapsed: 0:17:14.\n",
            "  Batch 2,560  of  2,850.    Elapsed: 0:17:31.\n",
            "  Batch 2,600  of  2,850.    Elapsed: 0:17:47.\n",
            "  Batch 2,640  of  2,850.    Elapsed: 0:18:04.\n",
            "  Batch 2,680  of  2,850.    Elapsed: 0:18:20.\n",
            "  Batch 2,720  of  2,850.    Elapsed: 0:18:36.\n",
            "  Batch 2,760  of  2,850.    Elapsed: 0:18:53.\n",
            "  Batch 2,800  of  2,850.    Elapsed: 0:19:09.\n",
            "  Batch 2,840  of  2,850.    Elapsed: 0:19:25.\n",
            "\n",
            "  Average training loss: 0.31\n",
            "  Training epcoh took: 0:19:30\n",
            "\n",
            "Running Validation...\n",
            "  Accuracy: 0.84\n",
            "  Validation took: 0:00:43\n",
            "\n",
            "======== Epoch 3 / 4 ========\n",
            "Training...\n",
            "  Batch    40  of  2,850.    Elapsed: 0:00:16.\n",
            "  Batch    80  of  2,850.    Elapsed: 0:00:33.\n",
            "  Batch   120  of  2,850.    Elapsed: 0:00:49.\n",
            "  Batch   160  of  2,850.    Elapsed: 0:01:06.\n",
            "  Batch   200  of  2,850.    Elapsed: 0:01:22.\n",
            "  Batch   240  of  2,850.    Elapsed: 0:01:39.\n",
            "  Batch   280  of  2,850.    Elapsed: 0:01:55.\n",
            "  Batch   320  of  2,850.    Elapsed: 0:02:11.\n",
            "  Batch   360  of  2,850.    Elapsed: 0:02:28.\n",
            "  Batch   400  of  2,850.    Elapsed: 0:02:44.\n",
            "  Batch   440  of  2,850.    Elapsed: 0:03:01.\n",
            "  Batch   480  of  2,850.    Elapsed: 0:03:17.\n",
            "  Batch   520  of  2,850.    Elapsed: 0:03:33.\n",
            "  Batch   560  of  2,850.    Elapsed: 0:03:50.\n",
            "  Batch   600  of  2,850.    Elapsed: 0:04:06.\n",
            "  Batch   640  of  2,850.    Elapsed: 0:04:23.\n",
            "  Batch   680  of  2,850.    Elapsed: 0:04:39.\n",
            "  Batch   720  of  2,850.    Elapsed: 0:04:56.\n",
            "  Batch   760  of  2,850.    Elapsed: 0:05:12.\n",
            "  Batch   800  of  2,850.    Elapsed: 0:05:28.\n",
            "  Batch   840  of  2,850.    Elapsed: 0:05:45.\n",
            "  Batch   880  of  2,850.    Elapsed: 0:06:01.\n",
            "  Batch   920  of  2,850.    Elapsed: 0:06:18.\n",
            "  Batch   960  of  2,850.    Elapsed: 0:06:34.\n",
            "  Batch 1,000  of  2,850.    Elapsed: 0:06:51.\n",
            "  Batch 1,040  of  2,850.    Elapsed: 0:07:07.\n",
            "  Batch 1,080  of  2,850.    Elapsed: 0:07:23.\n",
            "  Batch 1,120  of  2,850.    Elapsed: 0:07:40.\n",
            "  Batch 1,160  of  2,850.    Elapsed: 0:07:56.\n",
            "  Batch 1,200  of  2,850.    Elapsed: 0:08:13.\n",
            "  Batch 1,240  of  2,850.    Elapsed: 0:08:29.\n",
            "  Batch 1,280  of  2,850.    Elapsed: 0:08:46.\n",
            "  Batch 1,320  of  2,850.    Elapsed: 0:09:02.\n",
            "  Batch 1,360  of  2,850.    Elapsed: 0:09:19.\n",
            "  Batch 1,400  of  2,850.    Elapsed: 0:09:35.\n",
            "  Batch 1,440  of  2,850.    Elapsed: 0:09:51.\n",
            "  Batch 1,480  of  2,850.    Elapsed: 0:10:08.\n",
            "  Batch 1,520  of  2,850.    Elapsed: 0:10:24.\n",
            "  Batch 1,560  of  2,850.    Elapsed: 0:10:41.\n",
            "  Batch 1,600  of  2,850.    Elapsed: 0:10:57.\n",
            "  Batch 1,640  of  2,850.    Elapsed: 0:11:13.\n",
            "  Batch 1,680  of  2,850.    Elapsed: 0:11:30.\n",
            "  Batch 1,720  of  2,850.    Elapsed: 0:11:46.\n",
            "  Batch 1,760  of  2,850.    Elapsed: 0:12:03.\n",
            "  Batch 1,800  of  2,850.    Elapsed: 0:12:19.\n",
            "  Batch 1,840  of  2,850.    Elapsed: 0:12:35.\n",
            "  Batch 1,880  of  2,850.    Elapsed: 0:12:52.\n",
            "  Batch 1,920  of  2,850.    Elapsed: 0:13:08.\n",
            "  Batch 1,960  of  2,850.    Elapsed: 0:13:25.\n",
            "  Batch 2,000  of  2,850.    Elapsed: 0:13:41.\n",
            "  Batch 2,040  of  2,850.    Elapsed: 0:13:58.\n",
            "  Batch 2,080  of  2,850.    Elapsed: 0:14:14.\n",
            "  Batch 2,120  of  2,850.    Elapsed: 0:14:31.\n",
            "  Batch 2,160  of  2,850.    Elapsed: 0:14:47.\n",
            "  Batch 2,200  of  2,850.    Elapsed: 0:15:03.\n",
            "  Batch 2,240  of  2,850.    Elapsed: 0:15:20.\n",
            "  Batch 2,280  of  2,850.    Elapsed: 0:15:36.\n",
            "  Batch 2,320  of  2,850.    Elapsed: 0:15:53.\n",
            "  Batch 2,360  of  2,850.    Elapsed: 0:16:09.\n",
            "  Batch 2,400  of  2,850.    Elapsed: 0:16:25.\n",
            "  Batch 2,440  of  2,850.    Elapsed: 0:16:42.\n",
            "  Batch 2,480  of  2,850.    Elapsed: 0:16:58.\n",
            "  Batch 2,520  of  2,850.    Elapsed: 0:17:15.\n",
            "  Batch 2,560  of  2,850.    Elapsed: 0:17:31.\n",
            "  Batch 2,600  of  2,850.    Elapsed: 0:17:48.\n",
            "  Batch 2,640  of  2,850.    Elapsed: 0:18:04.\n",
            "  Batch 2,680  of  2,850.    Elapsed: 0:18:20.\n",
            "  Batch 2,720  of  2,850.    Elapsed: 0:18:37.\n",
            "  Batch 2,760  of  2,850.    Elapsed: 0:18:53.\n",
            "  Batch 2,800  of  2,850.    Elapsed: 0:19:10.\n",
            "  Batch 2,840  of  2,850.    Elapsed: 0:19:26.\n",
            "\n",
            "  Average training loss: 0.19\n",
            "  Training epcoh took: 0:19:30\n",
            "\n",
            "Running Validation...\n",
            "  Accuracy: 0.85\n",
            "  Validation took: 0:00:43\n",
            "\n",
            "======== Epoch 4 / 4 ========\n",
            "Training...\n",
            "  Batch    40  of  2,850.    Elapsed: 0:00:16.\n",
            "  Batch    80  of  2,850.    Elapsed: 0:00:33.\n",
            "  Batch   120  of  2,850.    Elapsed: 0:00:49.\n",
            "  Batch   160  of  2,850.    Elapsed: 0:01:06.\n",
            "  Batch   200  of  2,850.    Elapsed: 0:01:22.\n",
            "  Batch   240  of  2,850.    Elapsed: 0:01:39.\n",
            "  Batch   280  of  2,850.    Elapsed: 0:01:55.\n",
            "  Batch   320  of  2,850.    Elapsed: 0:02:11.\n",
            "  Batch   360  of  2,850.    Elapsed: 0:02:28.\n",
            "  Batch   400  of  2,850.    Elapsed: 0:02:44.\n",
            "  Batch   440  of  2,850.    Elapsed: 0:03:01.\n",
            "  Batch   480  of  2,850.    Elapsed: 0:03:17.\n",
            "  Batch   520  of  2,850.    Elapsed: 0:03:34.\n",
            "  Batch   560  of  2,850.    Elapsed: 0:03:50.\n",
            "  Batch   600  of  2,850.    Elapsed: 0:04:06.\n",
            "  Batch   640  of  2,850.    Elapsed: 0:04:23.\n",
            "  Batch   680  of  2,850.    Elapsed: 0:04:39.\n",
            "  Batch   720  of  2,850.    Elapsed: 0:04:56.\n",
            "  Batch   760  of  2,850.    Elapsed: 0:05:12.\n",
            "  Batch   800  of  2,850.    Elapsed: 0:05:29.\n",
            "  Batch   840  of  2,850.    Elapsed: 0:05:45.\n",
            "  Batch   880  of  2,850.    Elapsed: 0:06:01.\n",
            "  Batch   920  of  2,850.    Elapsed: 0:06:18.\n",
            "  Batch   960  of  2,850.    Elapsed: 0:06:34.\n",
            "  Batch 1,000  of  2,850.    Elapsed: 0:06:51.\n",
            "  Batch 1,040  of  2,850.    Elapsed: 0:07:07.\n",
            "  Batch 1,080  of  2,850.    Elapsed: 0:07:23.\n",
            "  Batch 1,120  of  2,850.    Elapsed: 0:07:40.\n",
            "  Batch 1,160  of  2,850.    Elapsed: 0:07:56.\n",
            "  Batch 1,200  of  2,850.    Elapsed: 0:08:13.\n",
            "  Batch 1,240  of  2,850.    Elapsed: 0:08:29.\n",
            "  Batch 1,280  of  2,850.    Elapsed: 0:08:46.\n",
            "  Batch 1,320  of  2,850.    Elapsed: 0:09:02.\n",
            "  Batch 1,360  of  2,850.    Elapsed: 0:09:19.\n",
            "  Batch 1,400  of  2,850.    Elapsed: 0:09:35.\n",
            "  Batch 1,440  of  2,850.    Elapsed: 0:09:51.\n",
            "  Batch 1,480  of  2,850.    Elapsed: 0:10:08.\n",
            "  Batch 1,520  of  2,850.    Elapsed: 0:10:24.\n",
            "  Batch 1,560  of  2,850.    Elapsed: 0:10:41.\n",
            "  Batch 1,600  of  2,850.    Elapsed: 0:10:57.\n",
            "  Batch 1,640  of  2,850.    Elapsed: 0:11:13.\n",
            "  Batch 1,680  of  2,850.    Elapsed: 0:11:30.\n",
            "  Batch 1,720  of  2,850.    Elapsed: 0:11:46.\n",
            "  Batch 1,760  of  2,850.    Elapsed: 0:12:03.\n",
            "  Batch 1,800  of  2,850.    Elapsed: 0:12:19.\n",
            "  Batch 1,840  of  2,850.    Elapsed: 0:12:35.\n",
            "  Batch 1,880  of  2,850.    Elapsed: 0:12:52.\n",
            "  Batch 1,920  of  2,850.    Elapsed: 0:13:08.\n",
            "  Batch 1,960  of  2,850.    Elapsed: 0:13:25.\n",
            "  Batch 2,000  of  2,850.    Elapsed: 0:13:41.\n",
            "  Batch 2,040  of  2,850.    Elapsed: 0:13:58.\n",
            "  Batch 2,080  of  2,850.    Elapsed: 0:14:14.\n",
            "  Batch 2,120  of  2,850.    Elapsed: 0:14:30.\n",
            "  Batch 2,160  of  2,850.    Elapsed: 0:14:47.\n",
            "  Batch 2,200  of  2,850.    Elapsed: 0:15:03.\n",
            "  Batch 2,240  of  2,850.    Elapsed: 0:15:20.\n",
            "  Batch 2,280  of  2,850.    Elapsed: 0:15:36.\n",
            "  Batch 2,320  of  2,850.    Elapsed: 0:15:53.\n",
            "  Batch 2,360  of  2,850.    Elapsed: 0:16:09.\n",
            "  Batch 2,400  of  2,850.    Elapsed: 0:16:25.\n",
            "  Batch 2,440  of  2,850.    Elapsed: 0:16:42.\n",
            "  Batch 2,480  of  2,850.    Elapsed: 0:16:58.\n",
            "  Batch 2,520  of  2,850.    Elapsed: 0:17:15.\n",
            "  Batch 2,560  of  2,850.    Elapsed: 0:17:31.\n",
            "  Batch 2,600  of  2,850.    Elapsed: 0:17:47.\n",
            "  Batch 2,640  of  2,850.    Elapsed: 0:18:04.\n",
            "  Batch 2,680  of  2,850.    Elapsed: 0:18:20.\n",
            "  Batch 2,720  of  2,850.    Elapsed: 0:18:37.\n",
            "  Batch 2,760  of  2,850.    Elapsed: 0:18:53.\n",
            "  Batch 2,800  of  2,850.    Elapsed: 0:19:09.\n",
            "  Batch 2,840  of  2,850.    Elapsed: 0:19:26.\n",
            "\n",
            "  Average training loss: 0.12\n",
            "  Training epcoh took: 0:19:30\n",
            "\n",
            "Running Validation...\n",
            "  Accuracy: 0.85\n",
            "  Validation took: 0:00:43\n",
            "\n",
            "Training complete!\n"
          ],
          "name": "stdout"
        }
      ]
    },
    {
      "cell_type": "code",
      "metadata": {
        "id": "eE1CEng0zIWu",
        "colab_type": "code",
        "colab": {
          "base_uri": "https://localhost:8080/",
          "height": 427
        },
        "outputId": "233b4996-d7e7-4d05-ec84-684901e4d29f"
      },
      "source": [
        "import matplotlib.pyplot as plt\n",
        "% matplotlib inline\n",
        "\n",
        "import seaborn as sns\n",
        "\n",
        "sns.set(style='darkgrid')\n",
        "\n",
        "sns.set(font_scale=1.5)\n",
        "plt.rcParams['figure.figsize'] = (12,6)\n",
        "\n",
        "plt.plot(loss_values,'b-o')\n",
        "\n",
        "plt.title('Training loss')\n",
        "plt.xlabel('Epoch')\n",
        "plt.ylabel('Loss')\n",
        "\n",
        "plt.show()"
      ],
      "execution_count": 43,
      "outputs": [
        {
          "output_type": "display_data",
          "data": {
            "image/png": "[encoded data removed]",
            "text/plain": [
              "<Figure size 864x432 with 1 Axes>"
            ]
          },
          "metadata": {
            "tags": []
          }
        }
      ]
    },
    {
      "cell_type": "code",
      "metadata": {
        "id": "xpEIE5F0s6es",
        "colab_type": "code",
        "colab": {
          "base_uri": "https://localhost:8080/",
          "height": 419
        },
        "outputId": "07d792de-289c-4830-9335-2ef1e6f5c997"
      },
      "source": [
        "phaseTwo"
      ],
      "execution_count": 44,
      "outputs": [
        {
          "output_type": "execute_result",
          "data": {
            "text/html": [
              "<div>\n",
              "<style scoped>\n",
              "    .dataframe tbody tr th:only-of-type {\n",
              "        vertical-align: middle;\n",
              "    }\n",
              "\n",
              "    .dataframe tbody tr th {\n",
              "        vertical-align: top;\n",
              "    }\n",
              "\n",
              "    .dataframe thead th {\n",
              "        text-align: right;\n",
              "    }\n",
              "</style>\n",
              "<table border=\"1\" class=\"dataframe\">\n",
              "  <thead>\n",
              "    <tr style=\"text-align: right;\">\n",
              "      <th></th>\n",
              "      <th>party</th>\n",
              "      <th>text</th>\n",
              "    </tr>\n",
              "  </thead>\n",
              "  <tbody>\n",
              "    <tr>\n",
              "      <th>0</th>\n",
              "      <td>1.0</td>\n",
              "      <td>Joe met with members of  and  to discuss the i...</td>\n",
              "    </tr>\n",
              "    <tr>\n",
              "      <th>1</th>\n",
              "      <td>1.0</td>\n",
              "      <td>If youre new to health care coverage or lookin...</td>\n",
              "    </tr>\n",
              "    <tr>\n",
              "      <th>2</th>\n",
              "      <td>1.0</td>\n",
              "      <td>Alabamas extreme and unconstitutional ban on a...</td>\n",
              "    </tr>\n",
              "    <tr>\n",
              "      <th>3</th>\n",
              "      <td>0.0</td>\n",
              "      <td>Today's 30th anniversary of the Tiananmen Squa...</td>\n",
              "    </tr>\n",
              "    <tr>\n",
              "      <th>4</th>\n",
              "      <td>0.0</td>\n",
              "      <td>Great work  K-9 Sig &amp;amp; Officer Hensel and  ...</td>\n",
              "    </tr>\n",
              "    <tr>\n",
              "      <th>...</th>\n",
              "      <td>...</td>\n",
              "      <td>...</td>\n",
              "    </tr>\n",
              "    <tr>\n",
              "      <th>33771</th>\n",
              "      <td>1.0</td>\n",
              "      <td>Untruthful testimony, under oath and on the re...</td>\n",
              "    </tr>\n",
              "    <tr>\n",
              "      <th>33772</th>\n",
              "      <td>1.0</td>\n",
              "      <td>HAPPENING NOW: Judge Kavanaugh must honestly a...</td>\n",
              "    </tr>\n",
              "    <tr>\n",
              "      <th>33773</th>\n",
              "      <td>1.0</td>\n",
              "      <td>Happy Birthday CT! On the 232nd anniversary of...</td>\n",
              "    </tr>\n",
              "    <tr>\n",
              "      <th>33774</th>\n",
              "      <td>0.0</td>\n",
              "      <td>I partnered w/  to reintroduce the Reach Act t...</td>\n",
              "    </tr>\n",
              "    <tr>\n",
              "      <th>33775</th>\n",
              "      <td>0.0</td>\n",
              "      <td>Senator Collins just cast her 4,900th consecut...</td>\n",
              "    </tr>\n",
              "  </tbody>\n",
              "</table>\n",
              "<p>33776 rows × 2 columns</p>\n",
              "</div>"
            ],
            "text/plain": [
              "       party                                               text\n",
              "0        1.0  Joe met with members of  and  to discuss the i...\n",
              "1        1.0  If youre new to health care coverage or lookin...\n",
              "2        1.0  Alabamas extreme and unconstitutional ban on a...\n",
              "3        0.0  Today's 30th anniversary of the Tiananmen Squa...\n",
              "4        0.0  Great work  K-9 Sig &amp; Officer Hensel and  ...\n",
              "...      ...                                                ...\n",
              "33771    1.0  Untruthful testimony, under oath and on the re...\n",
              "33772    1.0  HAPPENING NOW: Judge Kavanaugh must honestly a...\n",
              "33773    1.0  Happy Birthday CT! On the 232nd anniversary of...\n",
              "33774    0.0  I partnered w/  to reintroduce the Reach Act t...\n",
              "33775    0.0  Senator Collins just cast her 4,900th consecut...\n",
              "\n",
              "[33776 rows x 2 columns]"
            ]
          },
          "metadata": {
            "tags": []
          },
          "execution_count": 44
        }
      ]
    },
    {
      "cell_type": "code",
      "metadata": {
        "id": "1X5iMdZsw7I7",
        "colab_type": "code",
        "colab": {
          "base_uri": "https://localhost:8080/",
          "height": 51
        },
        "outputId": "418d3590-7f22-41a1-91b5-2df3950ab3ca"
      },
      "source": [
        "tweets = phaseTwo.text.values\n",
        "labels = phaseTwo.party.values\n",
        "\n",
        "input_ids = []\n",
        "\n",
        "for tweet in tweets:\n",
        "  encoded_tweet = tokenizer.encode(tweet,add_special_tokens=True)\n",
        "\n",
        "  input_ids.append(encoded_tweet)\n",
        "\n",
        "attention_masks = []\n",
        "\n",
        "input_ids = pad_sequences(input_ids,maxlen=MAX_LEN,dtype='long',truncating='post',padding='post')\n",
        "\n",
        "for tweet in input_ids:\n",
        "  tweet_mask = [float(i > 0) for i in tweet]\n",
        "  attention_masks.append(tweet_mask)\n",
        "\n",
        "prediction_inputs = torch.tensor(input_ids)\n",
        "prediction_masks = torch.tensor(attention_masks)\n",
        "prediction_labels = torch.tensor(labels)\n",
        "\n",
        "batch_size = 32\n",
        "\n",
        "prediction_data = TensorDataset(prediction_inputs,prediction_masks,prediction_labels)\n",
        "prediction_sampler = SequentialSampler(prediction_data)\n",
        "prediction_dataloader = DataLoader(prediction_data,sampler=prediction_sampler,batch_size=batch_size)\n",
        "\n",
        "print('Number of test sentences: {:,}\\n'.format(phaseTwo.shape[0]))"
      ],
      "execution_count": 48,
      "outputs": [
        {
          "output_type": "stream",
          "text": [
            "Number of test sentences: 33,776\n",
            "\n"
          ],
          "name": "stdout"
        }
      ]
    },
    {
      "cell_type": "code",
      "metadata": {
        "id": "6rVzOQpGzuns",
        "colab_type": "code",
        "colab": {
          "base_uri": "https://localhost:8080/",
          "height": 51
        },
        "outputId": "11a69347-1da8-4f9d-a4e4-34d61a430914"
      },
      "source": [
        "print('Predicting labels for {:,} test sentences...'.format(len(prediction_inputs)))\n",
        "\n",
        "model.eval()\n",
        "\n",
        "predictions, true_labels = [],[]\n",
        "\n",
        "for batch in prediction_dataloader:\n",
        "  batch = tuple(t.to(device) for t in batch)\n",
        "  b_input_ids, b_input_mask, b_labels = batch\n",
        "\n",
        "  with torch.no_grad():\n",
        "    outputs = model(b_input_ids,token_type_ids  = None,attention_mask=b_input_mask)\n",
        "\n",
        "  logits = outputs[0]\n",
        "\n",
        "  logits = logits.detach().cpu().numpy()\n",
        "  label_ids = b_labels.to('cpu').numpy()\n",
        "\n",
        "  predictions.append(logits)\n",
        "  true_labels.append(label_ids)\n",
        "\n",
        "print(\"Done.\")"
      ],
      "execution_count": 49,
      "outputs": [
        {
          "output_type": "stream",
          "text": [
            "Predicting labels for 33,776 test sentences...\n",
            "Done.\n"
          ],
          "name": "stdout"
        }
      ]
    },
    {
      "cell_type": "code",
      "metadata": {
        "id": "ohphXa451bEc",
        "colab_type": "code",
        "colab": {
          "base_uri": "https://localhost:8080/",
          "height": 34
        },
        "outputId": "fd38add4-820d-4de1-9579-4ede5977a8cd"
      },
      "source": [
        "print('Positive samples: %d of %d (%.2f%%)' % (phaseTwo.party.sum(), len(phaseTwo.party), (phaseTwo.party.sum() / len(phaseTwo.party) * 100.0)))"
      ],
      "execution_count": 50,
      "outputs": [
        {
          "output_type": "stream",
          "text": [
            "Positive samples: 22320 of 33776 (66.08%)\n"
          ],
          "name": "stdout"
        }
      ]
    },
    {
      "cell_type": "code",
      "metadata": {
        "id": "AA89_lGe2e3O",
        "colab_type": "code",
        "colab": {}
      },
      "source": [
        "from sklearn.metrics import matthews_corrcoef\n",
        "\n",
        "matthews_set = []\n",
        "\n",
        "for i in range(len(true_labels)):\n",
        "  pred_labels_i = np.argmax(predictions[i],axis=1).flatten()\n",
        "\n",
        "  matthews = matthews_corrcoef(true_labels[i],pred_labels_i)\n",
        "  matthews_set.append(matthews)"
      ],
      "execution_count": 0,
      "outputs": []
    },
    {
      "cell_type": "code",
      "metadata": {
        "id": "SkjeWCA43Fqx",
        "colab_type": "code",
        "colab": {
          "base_uri": "https://localhost:8080/",
          "height": 34
        },
        "outputId": "8dfa0117-1b9a-41b6-9e6c-c4a1448c961d"
      },
      "source": [
        "flat_predictions = [item for sublist in predictions for item in sublist]\n",
        "flat_predictions = np.argmax(flat_predictions,axis=1).flatten()\n",
        "\n",
        "flat_true_labels = [item for sublist in true_labels for item in sublist]\n",
        "\n",
        "mcc = matthews_corrcoef(flat_true_labels,flat_predictions)\n",
        "\n",
        "print('MCC: %.5f'%mcc)"
      ],
      "execution_count": 54,
      "outputs": [
        {
          "output_type": "stream",
          "text": [
            "MCC: 0.66319\n"
          ],
          "name": "stdout"
        }
      ]
    },
    {
      "cell_type": "code",
      "metadata": {
        "id": "_TvHseEO3wHd",
        "colab_type": "code",
        "colab": {}
      },
      "source": [
        "\n",
        "def analyze_slant(text):\n",
        "  encoded_tweet = tokenizer.encode(text, add_special_tokens=True)\n",
        "\n",
        "  encoded_tweet = pad_sequences([encoded_tweet],maxlen=MAX_LEN,dtype='long',truncating='post',padding='post')\n",
        "\n",
        "  attention_mask = [[float(i > 0) for i in encoded_tweet[0]]]\n",
        "\n",
        "  encoded_tweet = torch.tensor(encoded_tweet).to(device)\n",
        "  attention_mask = torch.tensor(attention_mask).to(device)\n",
        "\n",
        "  with torch.no_grad():\n",
        "    outputs = model(encoded_tweet,token_type_ids=None,attention_mask=attention_mask)\n",
        "\n",
        "  logits = outputs[0].detach().cpu().numpy()\n",
        "  return np.argmax(logits,axis=1)\n",
        "\n"
      ],
      "execution_count": 0,
      "outputs": []
    },
    {
      "cell_type": "code",
      "metadata": {
        "id": "4YwGfJGc-Bus",
        "colab_type": "code",
        "colab": {}
      },
      "source": [
        "def left_or_right(text):\n",
        "  return \"Left\" if analyze_slant(text)==1 else \"Right\""
      ],
      "execution_count": 0,
      "outputs": []
    },
    {
      "cell_type": "code",
      "metadata": {
        "id": "kDa7O_ShAuCd",
        "colab_type": "code",
        "colab": {
          "base_uri": "https://localhost:8080/",
          "height": 34
        },
        "outputId": "0c648798-75f2-40aa-c67f-a62b19f61ba8"
      },
      "source": [
        "left_or_right(\"Legalize marijuana\")"
      ],
      "execution_count": 93,
      "outputs": [
        {
          "output_type": "execute_result",
          "data": {
            "text/plain": [
              "'Left'"
            ]
          },
          "metadata": {
            "tags": []
          },
          "execution_count": 93
        }
      ]
    },
    {
      "cell_type": "code",
      "metadata": {
        "id": "n7wJWzy0Ax67",
        "colab_type": "code",
        "colab": {
          "base_uri": "https://localhost:8080/",
          "height": 34
        },
        "outputId": "ba4a885e-3daa-4f74-b110-4431ef29e59a"
      },
      "source": [
        "left_or_right(\"MAGA\")"
      ],
      "execution_count": 81,
      "outputs": [
        {
          "output_type": "execute_result",
          "data": {
            "text/plain": [
              "'Left'"
            ]
          },
          "metadata": {
            "tags": []
          },
          "execution_count": 81
        }
      ]
    },
    {
      "cell_type": "code",
      "metadata": {
        "id": "CMnEVEFEBE4n",
        "colab_type": "code",
        "colab": {
          "base_uri": "https://localhost:8080/",
          "height": 34
        },
        "outputId": "b4ca62a0-d7ba-4798-ba13-d7341639f423"
      },
      "source": [
        "left_or_right(\"We need to build a wall\")"
      ],
      "execution_count": 91,
      "outputs": [
        {
          "output_type": "execute_result",
          "data": {
            "text/plain": [
              "'Right'"
            ]
          },
          "metadata": {
            "tags": []
          },
          "execution_count": 91
        }
      ]
    },
    {
      "cell_type": "code",
      "metadata": {
        "id": "HypwEUf8BUjP",
        "colab_type": "code",
        "colab": {
          "base_uri": "https://localhost:8080/",
          "height": 34
        },
        "outputId": "67f7edea-2610-46d5-d2d6-f241b90d4f94"
      },
      "source": [
        "left_or_right(\"We need to build a wall.\")"
      ],
      "execution_count": 92,
      "outputs": [
        {
          "output_type": "execute_result",
          "data": {
            "text/plain": [
              "'Left'"
            ]
          },
          "metadata": {
            "tags": []
          },
          "execution_count": 92
        }
      ]
    },
    {
      "cell_type": "code",
      "metadata": {
        "id": "bd5TJfTHCBjj",
        "colab_type": "code",
        "colab": {
          "base_uri": "https://localhost:8080/",
          "height": 85
        },
        "outputId": "c124ef82-7df8-42a5-90ae-04f24620632a"
      },
      "source": [
        "import os\n",
        "\n",
        "output_dir = './SlantClassification/model/'\n",
        "\n",
        "if not os.path.exists(output_dir):\n",
        "  os.makedirs(output_dir)\n",
        "\n",
        "print('Saving...')\n",
        "\n",
        "model_to_save = model.module if hasattr(model,'module') else model\n",
        "\n",
        "model_to_save.save_pretrained(output_dir)\n",
        "tokenizer.save_pretrained(output_dir)"
      ],
      "execution_count": 94,
      "outputs": [
        {
          "output_type": "stream",
          "text": [
            "Saving...\n"
          ],
          "name": "stdout"
        },
        {
          "output_type": "execute_result",
          "data": {
            "text/plain": [
              "('./SlantClassification/model/vocab.txt',\n",
              " './SlantClassification/model/special_tokens_map.json',\n",
              " './SlantClassification/model/added_tokens.json')"
            ]
          },
          "metadata": {
            "tags": []
          },
          "execution_count": 94
        }
      ]
    },
    {
      "cell_type": "code",
      "metadata": {
        "id": "N7oHYvNpE0rg",
        "colab_type": "code",
        "colab": {
          "base_uri": "https://localhost:8080/",
          "height": 51
        },
        "outputId": "c467ca3a-66df-4233-fc90-94c323f242cf"
      },
      "source": [
        "!ls"
      ],
      "execution_count": 105,
      "outputs": [
        {
          "output_type": "stream",
          "text": [
            "LICENSE  representatives.json  SlantDetector.ipynb\n",
            "model\t senators.json\t       tweets.csv\n"
          ],
          "name": "stdout"
        }
      ]
    },
    {
      "cell_type": "code",
      "metadata": {
        "id": "uLgZ6iE5E3N9",
        "colab_type": "code",
        "colab": {
          "base_uri": "https://localhost:8080/",
          "height": 119
        },
        "outputId": "1673643e-ea9d-4690-b66a-71cdbe6d6178"
      },
      "source": [
        "!zip -r model ./model"
      ],
      "execution_count": 106,
      "outputs": [
        {
          "output_type": "stream",
          "text": [
            "  adding: model/ (stored 0%)\n",
            "  adding: model/tokenizer_config.json (stored 0%)\n",
            "  adding: model/config.json (deflated 55%)\n",
            "  adding: model/pytorch_model.bin (deflated 7%)\n",
            "  adding: model/vocab.txt (deflated 53%)\n",
            "  adding: model/special_tokens_map.json (deflated 40%)\n"
          ],
          "name": "stdout"
        }
      ]
    },
    {
      "cell_type": "code",
      "metadata": {
        "id": "QCLqcrvuE_iQ",
        "colab_type": "code",
        "colab": {}
      },
      "source": [
        ""
      ],
      "execution_count": 0,
      "outputs": []
    }
  ]
}